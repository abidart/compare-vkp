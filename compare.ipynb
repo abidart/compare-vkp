{
 "cells": [
  {
   "cell_type": "markdown",
   "metadata": {},
   "source": [
    "# Molecular time evolution resource counts"
   ]
  },
  {
   "cell_type": "markdown",
   "metadata": {},
   "source": [
    "Computes the resources to do Trotterized time evolution, a subroutine used in quantum Krylov and quantum phase estimation, of molecular Hamiltonians on IBM Quantum computers."
   ]
  },
  {
   "cell_type": "markdown",
   "metadata": {},
   "source": [
    "## Setup"
   ]
  },
  {
   "cell_type": "code",
   "execution_count": 1,
   "metadata": {},
   "outputs": [],
   "source": [
    "import matplotlib.pyplot as plt\n",
    "import numpy as np\n",
    "import scipy\n",
    "\n",
    "import openfermion as of\n",
    "from openfermionpyscf import run_pyscf\n",
    "from openfermion.chem import geometry_from_pubchem, MolecularData\n",
    "\n",
    "import qiskit\n",
    "import qiskit.qasm3\n",
    "import qiskit_ibm_runtime\n",
    "from qiskit.circuit.library import PauliEvolutionGate\n",
    "from qiskit.synthesis import LieTrotter, SuzukiTrotter\n",
    "\n",
    "import convert\n",
    "import openfermion_helper"
   ]
  },
  {
   "cell_type": "code",
   "execution_count": 2,
   "metadata": {
    "tags": [
     "parameters"
    ]
   },
   "outputs": [],
   "source": [
    "# Parameters.\n",
    "molecule: str = \"one-water-phosphate\"\n",
    "\n",
    "# For Hubbard model only.\n",
    "xdim: int = 8  # Only for Hubbard, the x-dimension of the Hubbard model.\n",
    "ydim: int = 8  # Only for Hubbard, the y-dimension of the Hubbard model.\n",
    "\n",
    "threshold: float = 0.01  # Remove terms in Hamiltonian whose coefficients are smaller than this value in magnitude.\n",
    "\n",
    "ibm_computer: str = \"ibm_fez\"  # IBM computer to compile to.\n",
    "use_tket: bool = False  # Also run circuits through the TKET compiler if True.\n",
    "\n",
    "save_circuits: bool = True  # Option to save circuits (as QASM3 text files which can be loaded with qiskit.qasm3.load(filename)).\n",
    "compute_shots: bool = False  # Also compute the number of shots required to measure the Hamiltonian to various accuracies, assuming the k-commuting method. Requires computing the ground state, only feasible for small Hamiltonians."
   ]
  },
  {
   "cell_type": "code",
   "execution_count": 3,
   "metadata": {},
   "outputs": [],
   "source": [
    "# Parse parameters.\n",
    "molecule_options = [\"one-water-phosphate\", \"water\", \"hubbard\"]\n",
    "if molecule not in molecule_options:\n",
    "    raise ValueError(\n",
    "        f\"Unknown molecule option. Options are {molecule_options}. \"\n",
    "        \"Custom molecules can be defined in the notebook.\"\n",
    "    )"
   ]
  },
  {
   "cell_type": "code",
   "execution_count": 4,
   "metadata": {},
   "outputs": [],
   "source": [
    "# Set filename for saving.\n",
    "fname = f\"{molecule}_\"\n",
    "if molecule == \"hubbard\":\n",
    "    fname += f\"xdim_{xdim}_ydim_{ydim}_\"\n",
    "fname += f\"threshold_{threshold}\""
   ]
  },
  {
   "cell_type": "markdown",
   "metadata": {},
   "source": [
    "## Get Hamiltonian"
   ]
  },
  {
   "cell_type": "code",
   "execution_count": 5,
   "metadata": {},
   "outputs": [],
   "source": [
    "if molecule == \"one-water-phosphate\":\n",
    "    geometry = [\n",
    "        (\"P\", (-1.034220, -0.234256,0.672434)),\n",
    "        (\"O\", (-1.004065, 0.890081, -0.334695)),\n",
    "        (\"O\", (-0.003166, -1.329504, 0.557597)),\n",
    "        (\"O\", (-2.065823, -0.232403, 1.765329)),\n",
    "        (\"H\", (0.881055, 0.866924, -1.063283)),\n",
    "        (\"O\", (1.748944, 0.417505, -1.047631)),\n",
    "        (\"H\", (1.477276, -0.378346, -0.549750)),\n",
    "    ]\n",
    "    basis = \"sto-3g\"\n",
    "    multiplicity = 1\n",
    "    charge = 1\n",
    "\n",
    "    molecule = MolecularData(geometry, basis, multiplicity, charge)\n",
    "    mol = run_pyscf(molecule, run_mp2=True, run_cisd=False, run_ccsd=False, run_fci=False)\n",
    "    mol.save()\n",
    "\n",
    "    hamiltonian = MolecularData(filename=molecule.filename)\n",
    "    hamiltonian = hamiltonian.get_molecular_hamiltonian()\n",
    "    hamiltonian = of.get_fermion_operator(hamiltonian)\n",
    "\n",
    "elif molecule == \"water\":\n",
    "    geometry = geometry_from_pubchem(\"water\")\n",
    "    basis = \"sto-3g\"\n",
    "    multiplicity = 1\n",
    "    charge = 0\n",
    "\n",
    "    # Make molecule.\n",
    "    molecule = MolecularData(geometry, basis, multiplicity, charge)\n",
    "\n",
    "    mol = run_pyscf(molecule, run_mp2=True, run_cisd=True, run_ccsd=True, run_fci=True)\n",
    "    mol.save()\n",
    "\n",
    "    hamiltonian = MolecularData(filename=molecule.filename)\n",
    "    hamiltonian = hamiltonian.get_molecular_hamiltonian()\n",
    "    hamiltonian = of.get_fermion_operator(hamiltonian)\n",
    "\n",
    "elif molecule == \"hubbard\":\n",
    "    hamiltonian = of.hamiltonians.fermi_hubbard(xdim, ydim, 1.0, 1.0)"
   ]
  },
  {
   "cell_type": "code",
   "execution_count": null,
   "metadata": {},
   "outputs": [],
   "source": [
    "print(f\"Fermionic Hamiltonian has {len(hamiltonian.terms)} term(s).\")"
   ]
  },
  {
   "cell_type": "code",
   "execution_count": null,
   "metadata": {},
   "outputs": [],
   "source": [
    "hamiltonian.compress(abs_tol=threshold)\n",
    "print(f\"Compressed Fermionic Hamiltonian has {len(hamiltonian.terms)} term(s).\")"
   ]
  },
  {
   "cell_type": "code",
   "execution_count": null,
   "metadata": {},
   "outputs": [],
   "source": [
    "hamiltonian_openfermion = of.jordan_wigner(hamiltonian)\n",
    "\n",
    "nqubits = openfermion_helper.get_num_qubits(hamiltonian_openfermion)\n",
    "nterms = len(hamiltonian_openfermion.terms)\n",
    "\n",
    "print(f\"Qubit Hamiltonian acts on {nqubits} qubit(s) and has {nterms} term(s).\")"
   ]
  },
  {
   "cell_type": "code",
   "execution_count": null,
   "metadata": {},
   "outputs": [],
   "source": [
    "hamiltonian = openfermion_helper.preprocess_hamiltonian(\n",
    "    hamiltonian_openfermion,\n",
    "    drop_term_if=[lambda term: term == ()],\n",
    "    verbose=True,\n",
    ")  # Drop identity and convert to Cirq PauliSum.\n",
    "\n",
    "nterms = len(hamiltonian)\n",
    "nqubits = len(hamiltonian.qubits)\n",
    "\n",
    "print(f\"\\n\\nPre-processed qubit Hamiltonian acts on {nqubits} qubit(s) and has {nterms} term(s).\")"
   ]
  },
  {
   "cell_type": "markdown",
   "metadata": {},
   "source": [
    "## Gate counts for a first order Trotter step"
   ]
  },
  {
   "cell_type": "markdown",
   "metadata": {},
   "source": [
    "### (1) Crude estimate"
   ]
  },
  {
   "cell_type": "code",
   "execution_count": 10,
   "metadata": {},
   "outputs": [],
   "source": [
    "# \"\"\"Crude estimate.\"\"\"\n",
    "# num_cnots_crude: int = 0\n",
    "# for term in hamiltonian:\n",
    "#     num_cnots_crude += 2 ** (len(term.qubits) - 1)\n",
    "\n",
    "# num_cnots_crude"
   ]
  },
  {
   "cell_type": "markdown",
   "metadata": {},
   "source": [
    "### (2) Grouping + CNOT ladder"
   ]
  },
  {
   "cell_type": "code",
   "execution_count": 11,
   "metadata": {},
   "outputs": [],
   "source": [
    "# \"\"\"Estimate using grouping + diagonaliztion + exp(Z...Z) \"ladder\".\"\"\"\n",
    "# import kcommute\n",
    "\n",
    "\n",
    "# groups = kcommute.get_si_sets(hamiltonian, k=nqubits)\n",
    "\n",
    "# num_cnots: int = 0\n",
    "# for group in groups:\n",
    "#     num_cnots += nqubits ** 2  # It takes O(n^2) Clifford gates to diagonalize all terms in this group [https://arxiv.org/abs/quant-ph/0406196].\n",
    "#     for term in group:\n",
    "#         num_cnots += 2 * len(term.qubits)  # Using 2w CNOTs in a \"ladder\" and one exp(Z) gate on the bottom qubit. See https://arxiv.org/abs/2408.08265v3 Fig. 3.\n",
    "#     num_cnots += nqubits ** 2  # Rotating back to the Z basis (undoing the diagonal unitary).\n",
    "\n",
    "# num_cnots"
   ]
  },
  {
   "cell_type": "markdown",
   "metadata": {},
   "source": [
    "### (3) Qiskit's `PauliHedral` method"
   ]
  },
  {
   "cell_type": "code",
   "execution_count": 12,
   "metadata": {},
   "outputs": [],
   "source": [
    "H = convert.cirq_pauli_sum_to_qiskit_pauli_op(hamiltonian)"
   ]
  },
  {
   "cell_type": "code",
   "execution_count": null,
   "metadata": {},
   "outputs": [],
   "source": [
    "# Following https://qiskit-community.github.io/qiskit-algorithms/tutorials/13_trotterQRTE.html.\n",
    "order: int = 1\n",
    "cx_structure = \"chain\"  # \"fountain\"\n",
    "trotter_step = PauliEvolutionGate(H, time=1, synthesis=LieTrotter(cx_structure=cx_structure) if order == 1 else SuzukiTrotter(order, cx_structure=cx_structure))\n",
    "\n",
    "circuit = qiskit.QuantumCircuit(H.num_qubits)\n",
    "circuit.append(trotter_step, range(H.num_qubits));\n",
    "\n",
    "circuit = circuit.decompose(reps=2)\n",
    "circuit = qiskit.transpile(\n",
    "    circuit,\n",
    "    optimization_level=0,\n",
    "    basis_gates=[\"u3\", \"cx\"]\n",
    ")\n",
    "\n",
    "print(\n",
    "    f\"\"\"\n",
    "Depth: {circuit.depth()}\n",
    "Gates: {\", \".join([f\"{k.upper()}: {v}\" for k, v in circuit.count_ops().items()])}\n",
    "\"\"\"\n",
    ")\n",
    "if save_circuits:\n",
    "    with open(f\"{fname}_trotter_cx_u3_all_to_all_connectivity.qasm3\", \"w\") as file:\n",
    "        qiskit.qasm3.dump(circuit, file)"
   ]
  },
  {
   "cell_type": "markdown",
   "metadata": {},
   "source": [
    "## Optimize the circuit"
   ]
  },
  {
   "cell_type": "code",
   "execution_count": null,
   "metadata": {},
   "outputs": [],
   "source": [
    "compiled = qiskit.transpile(\n",
    "    circuit,\n",
    "    optimization_level=3,\n",
    "    basis_gates=[\"u3\", \"cx\"]\n",
    ")\n",
    "print(\n",
    "    f\"\"\"\n",
    "Depth: {compiled.depth()}\n",
    "Gates: {\", \".join([f\"{k.upper()}: {v}\" for k, v in compiled.count_ops().items()])}\n",
    "\"\"\"\n",
    ")\n",
    "if save_circuits:\n",
    "    with open(f\"{fname}_trotter_optimized_cx_u3_all_to_all_connectivity.qasm3\", \"w\") as file:\n",
    "        qiskit.qasm3.dump(compiled, file)"
   ]
  },
  {
   "cell_type": "markdown",
   "metadata": {},
   "source": [
    "## Compile to an IBM quantum computer"
   ]
  },
  {
   "cell_type": "code",
   "execution_count": null,
   "metadata": {},
   "outputs": [],
   "source": [
    "computer = qiskit_ibm_runtime.QiskitRuntimeService().backend(ibm_computer)  # Assumes a saved account.\n",
    "\n",
    "compiled_to_computer = qiskit.transpile(\n",
    "    compiled,\n",
    "    backend=computer,\n",
    "    optimization_level=3,\n",
    ")\n",
    "print(\n",
    "    f\"\"\"\n",
    "Depth: {compiled_to_computer.depth()}\n",
    "Gates: {\", \".join([f\"{k.upper()}: {v}\" for k, v in compiled_to_computer.count_ops().items()])}\n",
    "\"\"\"\n",
    ")\n",
    "if save_circuits:\n",
    "    with open(f\"{fname}_trotter_optimized_{ibm_computer}.qasm3\", \"w\") as file:\n",
    "        qiskit.qasm3.dump(compiled_to_computer, file)"
   ]
  },
  {
   "cell_type": "markdown",
   "metadata": {
    "collapsed": false
   },
   "source": [
    "### Using Quantinuum's TKET compiler"
   ]
  },
  {
   "cell_type": "code",
   "execution_count": null,
   "metadata": {
    "collapsed": false
   },
   "outputs": [],
   "source": [
    "if use_tket:\n",
    "    from pytket.extensions.qiskit import IBMQBackend, tk_to_qiskit, qiskit_to_tk\n",
    "\n",
    "    \n",
    "    ibmbackend = IBMQBackend(backend_name=ibm_computer)  # Assumes a saved account. \n",
    "\n",
    "    tket_compiled = ibmbackend.get_compiled_circuit(\n",
    "        circuit=qiskit_to_tk(circuit),\n",
    "        optimisation_level=3,\n",
    "    )\n",
    "    compiled_tket = tk_to_qiskit(tket_compiled)\n",
    "\n",
    "    print(\n",
    "        f\"\"\"\n",
    "    Depth: {compiled_tket.depth()}\n",
    "    Gates: {\", \".join([f\"{k.upper()}: {v}\" for k, v in compiled_tket.count_ops().items()])}\n",
    "    \"\"\"\n",
    "    )\n",
    "    if save_circuits:\n",
    "        with open(f\"{fname}_trotter_optimized_tket_{ibm_computer}.qasm3\", \"w\") as file:\n",
    "            qiskit.qasm3.dump(compiled_tket, file)"
   ]
  },
  {
   "cell_type": "markdown",
   "metadata": {},
   "source": [
    "## Compute the number of Trotter steps needed for chemical accuracy"
   ]
  },
  {
   "cell_type": "markdown",
   "metadata": {},
   "source": [
    "The Trotter error $\\epsilon$ decreases linearly in the number of Trotter stops $r$. Using error bounds for $\\epsilon$ from https://arxiv.org/abs/1912.08854 and chemical accuracy $\\epsilon^* = 10^{-3}$ Ha, we estimate the number of Trotter steps needed for chemical accuracy as $r = \\epsilon / \\epsilon^*$."
   ]
  },
  {
   "cell_type": "code",
   "execution_count": null,
   "metadata": {},
   "outputs": [],
   "source": [
    "error = np.sum(np.abs(H.coeffs))  # Loose error bound from https://arxiv.org/abs/1912.08854.\n",
    "\n",
    "epsilon: float = 0.001  # mHa\n",
    "\n",
    "nsteps = round(error / epsilon)\n",
    "nsteps"
   ]
  },
  {
   "cell_type": "markdown",
   "metadata": {},
   "source": [
    "## Compute number of shots"
   ]
  },
  {
   "cell_type": "markdown",
   "metadata": {},
   "source": [
    "We compute the number of shots needed to compute one energy (cost function) $\\langle \\psi | H | \\psi \\rangle$ to accuracy $\\epsilon$, assuming an (approximate) ground state $|\\psi\\rangle$."
   ]
  },
  {
   "cell_type": "code",
   "execution_count": null,
   "metadata": {},
   "outputs": [],
   "source": [
    "if compute_shots:\n",
    "    import kcommute\n",
    "\n",
    "\n",
    "    eval, evec = scipy.sparse.linalg.eigsh(\n",
    "        of.linalg.get_sparse_operator(hamiltonian_openfermion),\n",
    "        k=1,\n",
    "        which=\"SA\"\n",
    "    )\n",
    "    evec = evec.flatten()\n",
    "\n",
    "    epsilons = [0.1, 0.01, 0.001]\n",
    "    kvals = [1, 2, nqubits // 2, nqubits]\n",
    "\n",
    "    all_shots = []\n",
    "    for k in kvals:\n",
    "        groups = kcommute.get_si_sets(hamiltonian, k=k)\n",
    "        groups_of = convert.to_groups_of(groups)\n",
    "        base_shots = kcommute.compute_shots(groups_of, evec, epsilon=1)\n",
    "        shots = [base_shots / epsilon ** 2 for epsilon in epsilons]\n",
    "        all_shots.append(shots)\n",
    "        print(all_shots)\n",
    "    \n",
    "    plt.rcParams.update({\"font.family\": \"serif\", \"font.size\": 12})\n",
    "\n",
    "\n",
    "    for kval, shots in zip(kvals, all_shots):\n",
    "        plt.loglog(epsilons, shots, \"--o\", alpha=0.75, mec=\"black\", label=f\"$k = {kval}$\")\n",
    "\n",
    "    plt.legend()\n",
    "    plt.xlabel(\"Accuracy $\\epsilon$\")\n",
    "    plt.ylabel(\"Shots $N$\")\n",
    "    plt.title(f\"$k$-commuting shot counts w.r.t. ground state\\n for {mol.name} ({nqubits} qubits, {nterms} Paulis)\");"
   ]
  },
  {
   "cell_type": "markdown",
   "metadata": {},
   "source": []
  }
 ],
 "metadata": {
  "kernelspec": {
   "display_name": "envcompare",
   "language": "python",
   "name": "envcompare"
  },
  "language_info": {
   "codemirror_mode": {
    "name": "ipython",
    "version": 3
   },
   "file_extension": ".py",
   "mimetype": "text/x-python",
   "name": "python",
   "nbconvert_exporter": "python",
   "pygments_lexer": "ipython3",
   "version": "3.10.12"
  }
 },
 "nbformat": 4,
 "nbformat_minor": 2
}
