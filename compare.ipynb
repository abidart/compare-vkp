{
 "cells": [
  {
   "cell_type": "markdown",
   "metadata": {},
   "source": [
    "# Time evolution resource counts"
   ]
  },
  {
   "cell_type": "markdown",
   "metadata": {},
   "source": [
    "## Setup"
   ]
  },
  {
   "cell_type": "code",
   "execution_count": 1,
   "metadata": {},
   "outputs": [],
   "source": [
    "import math\n",
    "from typing import Iterable, List\n",
    "\n",
    "import numpy as np\n",
    "\n",
    "import openfermion as of\n",
    "from openfermionpyscf import run_pyscf, generate_molecular_hamiltonian\n",
    "from openfermion.chem import geometry_from_pubchem, MolecularData\n",
    "\n",
    "import cirq\n",
    "\n",
    "import qiskit\n",
    "import qiskit_ibm_runtime\n",
    "from qiskit.circuit import QuantumCircuit\n",
    "from qiskit.circuit.library import PauliEvolutionGate\n",
    "from qiskit.quantum_info import SparsePauliOp\n",
    "from qiskit.synthesis import LieTrotter, SuzukiTrotter"
   ]
  },
  {
   "cell_type": "markdown",
   "metadata": {},
   "source": [
    "### Grouping algorithms"
   ]
  },
  {
   "cell_type": "code",
   "execution_count": 2,
   "metadata": {},
   "outputs": [],
   "source": [
    "def compute_blocks(qubits: Iterable[cirq.Qid], k: int) -> List[List[cirq.Qid]]:\n",
    "    return [qubits[k * i : k * (i + 1)] for i in range(math.ceil(len(qubits) / k))]\n",
    "\n",
    "\n",
    "def restrict_to(\n",
    "    pauli: cirq.PauliString, qubits: Iterable[cirq.Qid]\n",
    ") -> cirq.PauliString:\n",
    "    \"\"\"Returns the Pauli string restricted to the provided qubits.\n",
    "\n",
    "    Args:\n",
    "        pauli: A Pauli string.\n",
    "        qubits: A set of qubits.\n",
    "\n",
    "    Returns:\n",
    "        The provided Pauli string acting only on the provided qubits.\n",
    "        Note: This could potentially be empty (identity).\n",
    "    \"\"\"\n",
    "    return cirq.PauliString(p.on(q) for q, p in pauli.items() if q in qubits)\n",
    "\n",
    "\n",
    "def commutes(pauli1: cirq.PauliString, pauli2: cirq.PauliString, blocks: List[List[cirq.Qid]]) -> bool:\n",
    "    \"\"\"Returns True if pauli1 k-commutes with pauli2, else False.\n",
    "\n",
    "    Args:\n",
    "        pauli1: A Pauli string.\n",
    "        pauli2: A Pauli string.\n",
    "        blocks: The block partitioning.\n",
    "    \"\"\"\n",
    "    for block in blocks:\n",
    "        if not cirq.commutes(restrict_to(pauli1, block), restrict_to(pauli2, block)):\n",
    "            return False\n",
    "    return True\n",
    "\n",
    "\n",
    "def get_terms_ordered_by_abscoeff(ham: cirq.PauliSum) -> List[cirq.PauliString]:\n",
    "    \"\"\"Returns the terms of the PauliSum ordered by coefficient absolute value.\n",
    "\n",
    "    Args:\n",
    "        ham: A PauliSum.\n",
    "\n",
    "    Returns:\n",
    "        a list of PauliStrings sorted by the absolute value of their coefficient.\n",
    "    \"\"\"\n",
    "    return sorted([term for term in ham], key=lambda x: abs(x.coefficient), reverse=True)\n",
    "\n",
    "\n",
    "def get_si_sets(ham: cirq.PauliSum, k: int = 1) -> List[List[cirq.PauliString]]:\n",
    "    \"\"\"Returns grouping from the sorted insertion algorithm [https://quantum-journal.org/papers/q-2021-01-20-385/].\n",
    "\n",
    "    Args:\n",
    "        ham: The observable to group.\n",
    "        k: The integer k in k-commutativity.\n",
    "    \"\"\"\n",
    "    qubits = sorted(set(ham.qubits))\n",
    "    blocks = compute_blocks(qubits, k)\n",
    "\n",
    "    commuting_sets = []\n",
    "    terms = [term for term in ham]\n",
    "    np.random.shuffle(terms)\n",
    "    # terms = get_terms_ordered_by_abscoeff(ham)\n",
    "    for pstring in terms:\n",
    "        found_commuting_set = False\n",
    "\n",
    "        for commset in commuting_sets:\n",
    "            cant_add = False\n",
    "\n",
    "            for pauli in commset:\n",
    "                if not commutes(pstring, pauli, blocks):\n",
    "                    cant_add = True\n",
    "                    break\n",
    "\n",
    "            if not cant_add:\n",
    "                commset.append(pstring)\n",
    "                found_commuting_set = True\n",
    "                break\n",
    "\n",
    "        if not found_commuting_set:\n",
    "            commuting_sets.append([pstring])\n",
    "\n",
    "    return commuting_sets"
   ]
  },
  {
   "cell_type": "markdown",
   "metadata": {},
   "source": [
    "### OpenFermion sucks"
   ]
  },
  {
   "cell_type": "code",
   "execution_count": 3,
   "metadata": {},
   "outputs": [],
   "source": [
    "def get_qubits(hamiltonian: of.QubitOperator) -> set[int]:\n",
    "    qubits = set()\n",
    "    for p in hamiltonian.get_operators():\n",
    "        for qubit, _ in list(p.terms.keys())[0]:\n",
    "            qubits.add(qubit)\n",
    "    return qubits\n",
    "\n",
    "def get_num_qubits(hamiltonian: of.QubitOperator) -> int:\n",
    "    return len(get_qubits(hamiltonian))\n",
    "\n",
    "\n",
    "def preprocess_hamiltonian(\n",
    "    hamiltonian: of.QubitOperator,\n",
    "    drop_term_if = None,\n",
    ") -> cirq.PauliSum:\n",
    "    \"\"\"Drop identity terms from the Hamiltonian and convert to Cirq format.\"\"\"\n",
    "    if drop_term_if is None:\n",
    "        drop_term_if = []\n",
    "\n",
    "    new = cirq.PauliSum()\n",
    "\n",
    "    for term in hamiltonian.terms:\n",
    "        add_term = True\n",
    "\n",
    "        for drop_term in drop_term_if:\n",
    "            if drop_term(term):\n",
    "                add_term = False\n",
    "                break\n",
    "\n",
    "        if add_term:\n",
    "            key = \" \".join(pauli + str(index) for index, pauli in term)\n",
    "            new += next(iter(\n",
    "                of.transforms.qubit_operator_to_pauli_sum(\n",
    "                    of.QubitOperator(key, hamiltonian.terms.get(term)\n",
    "                )\n",
    "            )))\n",
    "\n",
    "    return new"
   ]
  },
  {
   "cell_type": "markdown",
   "metadata": {},
   "source": [
    "### HamLib helper"
   ]
  },
  {
   "cell_type": "code",
   "execution_count": 4,
   "metadata": {},
   "outputs": [],
   "source": [
    "import h5py\n",
    "\n",
    "\n",
    "def read_openfermion_hdf5(fname_hdf5: str, key: str, optype=of.QubitOperator):\n",
    "    \"\"\"\n",
    "    Read any openfermion operator object from HDF5 file at specified key.\n",
    "    'optype' is the op class, can be of.QubitOperator or of.FermionOperator.\n",
    "    \"\"\"\n",
    "\n",
    "    with h5py.File(fname_hdf5, 'r', libver='latest') as f:\n",
    "        op = optype(f[key][()].decode(\"utf-8\"))\n",
    "    return op\n",
    "\n",
    "\n",
    "def parse_through_hdf5(func):\n",
    "    \"\"\"\n",
    "    Decorator function that iterates through an HDF5 file and performs\n",
    "    the action specified by ‘ func ‘ on the internal and leaf nodes in the HDF5 file.\n",
    "    \"\"\"\n",
    "\n",
    "    def wrapper (obj, path = '/', key = None) :\n",
    "        if type(obj) in [h5py._hl.group.Group, h5py._hl.files.File]:\n",
    "            for ky in obj.keys() :\n",
    "                func(obj, path, key=ky, leaf = False)\n",
    "                wrapper(obj = obj[ky], path = path + ky + ',', key = ky)\n",
    "        elif type (obj) == h5py._hl.dataset.Dataset:\n",
    "            func(obj, path, key = None, leaf = True)\n",
    "    return wrapper\n",
    "\n",
    "\n",
    "def get_hdf5_keys (fname_hdf5 : str ) :\n",
    "    \"\"\" Get a list of keys to all datasets stored in the HDF5 file .\n",
    "    Args\n",
    "    ----\n",
    "    fname_hdf5 ( str ) : full path where HDF5 file is stored\n",
    "    \"\"\"\n",
    "\n",
    "    all_keys = []\n",
    "    @parse_through_hdf5\n",
    "    def action(obj, path = '/', key = None, leaf = False):\n",
    "        if leaf is True :\n",
    "            all_keys.append(path)\n",
    "\n",
    "    with h5py.File(fname_hdf5, 'r') as f:\n",
    "        action(f['/'])\n",
    "    return all_keys"
   ]
  },
  {
   "cell_type": "markdown",
   "metadata": {},
   "source": [
    "## Select molecule and load Hamiltonian"
   ]
  },
  {
   "cell_type": "markdown",
   "metadata": {},
   "source": [
    "### From PubChem + OpenFermion"
   ]
  },
  {
   "cell_type": "code",
   "execution_count": 5,
   "metadata": {},
   "outputs": [],
   "source": [
    "# # Set parameters to make a simple molecule.\n",
    "# geometry = geometry_from_pubchem('water')\n",
    "# basis = 'sto-3g'\n",
    "# multiplicity = 1\n",
    "# charge = 0\n",
    "\n",
    "# # Make molecule and print out a few interesting facts about it.\n",
    "# molecule = MolecularData(geometry, basis, multiplicity, charge)\n",
    "\n",
    "\n",
    "# mol = run_pyscf(molecule, run_mp2=True, run_cisd=True, run_ccsd=True, run_fci=True)\n",
    "# mol.save()\n",
    "# water = MolecularData(filename=molecule.filename)\n",
    "# hamiltonian = water.get_molecular_hamiltonian()\n",
    "# hamiltonian = of.get_fermion_operator(hamiltonian)\n",
    "# hamiltonian = of.jordan_wigner(hamiltonian)\n",
    "# hamiltonian = preprocess_hamiltonian(hamiltonian, drop_term_if=[lambda term: term == ()])  # Drop identity."
   ]
  },
  {
   "cell_type": "markdown",
   "metadata": {},
   "source": [
    "### From Norm and Wayne"
   ]
  },
  {
   "cell_type": "code",
   "execution_count": 6,
   "metadata": {},
   "outputs": [],
   "source": [
    "geometry = [\n",
    "    (\"O\", (0.0, 0.0, 0.1173)), \n",
    "    (\"H\", (0.0, 0.7572, -0.4692)), \n",
    "    (\"H\", (0.0, -0.7572, -0.4692))\n",
    "]\n",
    "basis = \"sto-3g\"\n",
    "multiplicity = 1\n",
    "charge = 0\n",
    "\n",
    "hamiltonian = generate_molecular_hamiltonian(\n",
    "    geometry, basis, multiplicity, charge\n",
    ")\n",
    "\n",
    "# Convert to a FermionOperator\n",
    "hamiltonian_ferm_op = of.get_fermion_operator(hamiltonian)\n",
    "\n",
    "# Get the active space hamiltonian\n",
    "freeze_occ_spin_orbs = [0, 1, 2, 3, 4, 5]\n",
    "remove_vir_spin_orbs = []\n",
    "hamiltonian_ferm_op_active = of.transforms.freeze_orbitals(hamiltonian_ferm_op, freeze_occ_spin_orbs, remove_vir_spin_orbs)\n",
    "\n",
    "hamiltonian = hamiltonian_ferm_op_active\n",
    "hamiltonian = of.jordan_wigner(hamiltonian)\n",
    "hamiltonian = preprocess_hamiltonian(hamiltonian, drop_term_if=[lambda term: term == ()])  # Drop identity."
   ]
  },
  {
   "cell_type": "markdown",
   "metadata": {},
   "source": [
    "### From HamLib"
   ]
  },
  {
   "cell_type": "code",
   "execution_count": 7,
   "metadata": {},
   "outputs": [],
   "source": [
    "# get_hdf5_keys(\"OH.hdf5\")"
   ]
  },
  {
   "cell_type": "code",
   "execution_count": 8,
   "metadata": {},
   "outputs": [],
   "source": [
    "# hamiltonian = read_openfermion_hdf5(\n",
    "#     \"OH.hdf5\", \"./ham_BK10\"\n",
    "# )\n",
    "# hamiltonian = preprocess_hamiltonian(hamiltonian, drop_term_if=[lambda term: term == ()])  # Drop identity.\n"
   ]
  },
  {
   "cell_type": "markdown",
   "metadata": {},
   "source": [
    "### Show statistics"
   ]
  },
  {
   "cell_type": "code",
   "execution_count": 9,
   "metadata": {},
   "outputs": [
    {
     "name": "stdout",
     "output_type": "stream",
     "text": [
      "Hamiltonian acts on 8 qubit(s) and has 104 term(s).\n"
     ]
    }
   ],
   "source": [
    "nterms = len(hamiltonian)\n",
    "nqubits = len(hamiltonian.qubits)\n",
    "\n",
    "print(f\"Hamiltonian acts on {nqubits} qubit(s) and has {nterms} term(s).\")"
   ]
  },
  {
   "cell_type": "markdown",
   "metadata": {},
   "source": [
    "## Estimate number of CNOTs for first order Trotter"
   ]
  },
  {
   "cell_type": "code",
   "execution_count": 10,
   "metadata": {},
   "outputs": [
    {
     "data": {
      "text/plain": [
       "8"
      ]
     },
     "execution_count": 10,
     "metadata": {},
     "output_type": "execute_result"
    }
   ],
   "source": [
    "groups = get_si_sets(hamiltonian, k=nqubits)\n",
    "len(groups)"
   ]
  },
  {
   "cell_type": "code",
   "execution_count": 11,
   "metadata": {},
   "outputs": [
    {
     "name": "stdout",
     "output_type": "stream",
     "text": [
      "# terms\t\tMin Weight\tAvg weight\tMax weight\n",
      "----------------------------------------------------------\n",
      "36 \t\t 1 \t\t 3 \t\t\t 6\n",
      "24 \t\t 1 \t\t 4 \t\t\t 6\n",
      "10 \t\t 4 \t\t 5 \t\t\t 8\n",
      "8 \t\t 4 \t\t 5 \t\t\t 6\n",
      "8 \t\t 2 \t\t 5 \t\t\t 8\n",
      "8 \t\t 2 \t\t 4 \t\t\t 4\n",
      "6 \t\t 4 \t\t 5 \t\t\t 6\n",
      "4 \t\t 4 \t\t 4 \t\t\t 4\n"
     ]
    }
   ],
   "source": [
    "print(\"# terms\\t\\tMin Weight\\tAvg weight\\tMax weight\")\n",
    "print(\"-\" * 58)\n",
    "for group in groups:\n",
    "    weights = [len(pauli.qubits) for pauli in group]\n",
    "    print(len(weights), \"\\t\\t\", np.min(weights), \"\\t\\t\", round(np.average(weights)), \"\\t\\t\\t\", np.max(weights))"
   ]
  },
  {
   "cell_type": "code",
   "execution_count": 12,
   "metadata": {},
   "outputs": [
    {
     "data": {
      "text/plain": [
       "1816"
      ]
     },
     "execution_count": 12,
     "metadata": {},
     "output_type": "execute_result"
    }
   ],
   "source": [
    "\"\"\"Estimate using grouping + diagonaliztion + exp(Z...Z) \"ladder\".\"\"\"\n",
    "num_cnots: int = 0\n",
    "for group in groups:\n",
    "    num_cnots += nqubits ** 2  # It takes O(n^2) Clifford gates to diagonalize all terms in this group [https://arxiv.org/abs/quant-ph/0406196].\n",
    "    for term in group:\n",
    "        num_cnots += 2 * len(term.qubits)  # Using 2w CNOTs in a \"ladder\" and one exp(Z) gate on the bottom qubit. See https://arxiv.org/abs/2408.08265v3 Fig. 3.\n",
    "    num_cnots += nqubits ** 2  # Rotating back to the Z basis (undoing the diagonal unitary).\n",
    "\n",
    "num_cnots"
   ]
  },
  {
   "cell_type": "code",
   "execution_count": 13,
   "metadata": {},
   "outputs": [
    {
     "data": {
      "text/plain": [
       "1600"
      ]
     },
     "execution_count": 13,
     "metadata": {},
     "output_type": "execute_result"
    }
   ],
   "source": [
    "\"\"\"Crude estimate.\"\"\"\n",
    "num_cnots_crude: int = 0\n",
    "for term in hamiltonian:\n",
    "    num_cnots_crude += 2 ** (len(term.qubits) - 1)\n",
    "\n",
    "num_cnots_crude"
   ]
  },
  {
   "cell_type": "code",
   "execution_count": 14,
   "metadata": {},
   "outputs": [
    {
     "data": {
      "text/plain": [
       "454"
      ]
     },
     "execution_count": 14,
     "metadata": {},
     "output_type": "execute_result"
    }
   ],
   "source": [
    "# In an n-qubit circuit, at most n/2 CNOTs can fit in a layer.\n",
    "min_depth = round(num_cnots / (len(hamiltonian.qubits) / 2))\n",
    "min_depth"
   ]
  },
  {
   "cell_type": "markdown",
   "metadata": {},
   "source": [
    "### Qiskit's `PauliHedral` method"
   ]
  },
  {
   "cell_type": "code",
   "execution_count": 15,
   "metadata": {},
   "outputs": [],
   "source": [
    "def cirq_pauli_sum_to_qiskit_pauli_op(pauli_sum: cirq.PauliSum) -> SparsePauliOp:\n",
    "    cirq_pauli_to_str = {cirq.X: \"X\", cirq.Y: \"Y\", cirq.Z: \"Z\"}\n",
    "\n",
    "    qubits = hamiltonian.qubits\n",
    "    terms = []\n",
    "    coeffs = []\n",
    "    for term in pauli_sum:\n",
    "        string = \"\"\n",
    "        for qubit in qubits:\n",
    "            if qubit not in term:\n",
    "                string += \"I\"\n",
    "            else:\n",
    "                string += cirq_pauli_to_str[term[qubit]]\n",
    "        terms.append(string)\n",
    "        assert np.isclose(term.coefficient.imag, 0.0, atol=1e-7)\n",
    "        coeffs.append(term.coefficient.real)\n",
    "    return SparsePauliOp(terms, coeffs)"
   ]
  },
  {
   "cell_type": "code",
   "execution_count": 16,
   "metadata": {},
   "outputs": [],
   "source": [
    "H = cirq_pauli_sum_to_qiskit_pauli_op(hamiltonian)"
   ]
  },
  {
   "cell_type": "code",
   "execution_count": 17,
   "metadata": {},
   "outputs": [
    {
     "name": "stdout",
     "output_type": "stream",
     "text": [
      "\n",
      "              Depth: 873\n",
      "         Gate count: 1336\n",
      "Nonlocal gate count: 584\n",
      "     Gate breakdown: CX: 584, U2: 432, U1: 292, RZ: 28\n",
      "\n"
     ]
    }
   ],
   "source": [
    "# Following https://qiskit-community.github.io/qiskit-algorithms/tutorials/13_trotterQRTE.html.\n",
    "order: int = 1\n",
    "cx_structure = \"chain\"  # \"fountain\"\n",
    "trotter_step = PauliEvolutionGate(H, time=1, synthesis=LieTrotter(cx_structure=cx_structure) if order == 1 else SuzukiTrotter(order, cx_structure=cx_structure))\n",
    "\n",
    "circuit = QuantumCircuit(H.num_qubits)\n",
    "circuit.append(trotter_step, range(H.num_qubits))\n",
    "circuit = circuit.decompose(reps=2)\n",
    "\n",
    "print(\n",
    "    f\"\"\"\n",
    "              Depth: {circuit.depth()}\n",
    "         Gate count: {len(circuit)}\n",
    "Nonlocal gate count: {circuit.num_nonlocal_gates()}\n",
    "     Gate breakdown: {\", \".join([f\"{k.upper()}: {v}\" for k, v in circuit.count_ops().items()])}\n",
    "\"\"\"\n",
    ")"
   ]
  },
  {
   "cell_type": "code",
   "execution_count": 18,
   "metadata": {},
   "outputs": [],
   "source": [
    "# circuit.draw(fold=-1)"
   ]
  },
  {
   "cell_type": "markdown",
   "metadata": {},
   "source": [
    "### Compile"
   ]
  },
  {
   "cell_type": "code",
   "execution_count": 19,
   "metadata": {},
   "outputs": [],
   "source": [
    "compiled = qiskit.transpile(\n",
    "    circuit,\n",
    "    optimization_level=3,\n",
    "    basis_gates=[\"u3\", \"cx\"]\n",
    ")"
   ]
  },
  {
   "cell_type": "code",
   "execution_count": 20,
   "metadata": {},
   "outputs": [
    {
     "name": "stdout",
     "output_type": "stream",
     "text": [
      "\n",
      "              Depth: 667\n",
      "         Gate count: 900\n",
      "Nonlocal gate count: 457\n",
      "     Gate breakdown: CX: 457, U3: 443\n",
      "\n"
     ]
    }
   ],
   "source": [
    "print(\n",
    "    f\"\"\"\n",
    "              Depth: {compiled.depth()}\n",
    "         Gate count: {len(compiled)}\n",
    "Nonlocal gate count: {compiled.num_nonlocal_gates()}\n",
    "     Gate breakdown: {\", \".join([f\"{k.upper()}: {v}\" for k, v in compiled.count_ops().items()])}\n",
    "\"\"\"\n",
    ")"
   ]
  },
  {
   "cell_type": "code",
   "execution_count": 21,
   "metadata": {},
   "outputs": [],
   "source": [
    "# compiled.draw(fold=-1)"
   ]
  },
  {
   "cell_type": "markdown",
   "metadata": {},
   "source": [
    "### Compile to device"
   ]
  },
  {
   "cell_type": "code",
   "execution_count": 22,
   "metadata": {},
   "outputs": [],
   "source": [
    "service = qiskit_ibm_runtime.QiskitRuntimeService(\n",
    "    channel=\"ibm_quantum\",\n",
    "    token=\"a31cd7a886de33d4b7cc0fbf8312056b174c15b95f08519f02641c33cc3aedf528d59a0f794fd65327f8ef1e931301c68e5233a02140489474aad9eaba9053f4\",\n",
    ")"
   ]
  },
  {
   "cell_type": "code",
   "execution_count": 23,
   "metadata": {},
   "outputs": [],
   "source": [
    "computer = service.backend(\"ibm_kyiv\")"
   ]
  },
  {
   "cell_type": "code",
   "execution_count": 24,
   "metadata": {},
   "outputs": [],
   "source": [
    "compiled_fez = qiskit.transpile(\n",
    "    compiled,\n",
    "    backend=computer,\n",
    "    optimization_level=3,\n",
    ")"
   ]
  },
  {
   "cell_type": "code",
   "execution_count": 25,
   "metadata": {},
   "outputs": [
    {
     "name": "stdout",
     "output_type": "stream",
     "text": [
      "\n",
      "              Depth: 2836\n",
      "         Gate count: 5164\n",
      "Nonlocal gate count: 772\n",
      "     Gate breakdown: RZ: 2653, SX: 1659, ECR: 772, X: 80\n",
      "\n"
     ]
    }
   ],
   "source": [
    "print(\n",
    "    f\"\"\"\n",
    "              Depth: {compiled_fez.depth()}\n",
    "         Gate count: {len(compiled_fez)}\n",
    "Nonlocal gate count: {compiled_fez.num_nonlocal_gates()}\n",
    "     Gate breakdown: {\", \".join([f\"{k.upper()}: {v}\" for k, v in compiled_fez.count_ops().items()])}\n",
    "\"\"\"\n",
    ")"
   ]
  },
  {
   "cell_type": "markdown",
   "metadata": {},
   "source": [
    "## Number of Trotter steps for chemical accuracy"
   ]
  },
  {
   "cell_type": "markdown",
   "metadata": {},
   "source": [
    "See https://arxiv.org/abs/1912.08854."
   ]
  },
  {
   "cell_type": "code",
   "execution_count": 26,
   "metadata": {},
   "outputs": [],
   "source": [
    "error = np.sum(np.abs(H.coeffs))  # Loose error bound from https://arxiv.org/abs/1912.08854."
   ]
  },
  {
   "cell_type": "code",
   "execution_count": 27,
   "metadata": {},
   "outputs": [],
   "source": [
    "epsilon: float = 0.001  # mHa"
   ]
  },
  {
   "cell_type": "code",
   "execution_count": 28,
   "metadata": {},
   "outputs": [
    {
     "data": {
      "text/plain": [
       "6911"
      ]
     },
     "execution_count": 28,
     "metadata": {},
     "output_type": "execute_result"
    }
   ],
   "source": [
    "nsteps = round(error / epsilon)\n",
    "nsteps"
   ]
  },
  {
   "cell_type": "markdown",
   "metadata": {},
   "source": []
  }
 ],
 "metadata": {
  "kernelspec": {
   "display_name": "envcomparetest",
   "language": "python",
   "name": "envcomparetest"
  },
  "language_info": {
   "codemirror_mode": {
    "name": "ipython",
    "version": 3
   },
   "file_extension": ".py",
   "mimetype": "text/x-python",
   "name": "python",
   "nbconvert_exporter": "python",
   "pygments_lexer": "ipython3",
   "version": "3.10.13"
  }
 },
 "nbformat": 4,
 "nbformat_minor": 2
}
