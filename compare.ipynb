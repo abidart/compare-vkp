{
 "cells": [
  {
   "cell_type": "markdown",
   "metadata": {},
   "source": [
    "# Time evolution resource estimates for molecules"
   ]
  },
  {
   "cell_type": "markdown",
   "metadata": {},
   "source": [
    "## Setup"
   ]
  },
  {
   "cell_type": "code",
   "execution_count": 6,
   "metadata": {},
   "outputs": [],
   "source": [
    "import math\n",
    "from typing import Iterable, List\n",
    "\n",
    "import numpy as np\n",
    "\n",
    "import openfermion as of\n",
    "from openfermionpyscf import run_pyscf\n",
    "from openfermion.chem import geometry_from_pubchem, MolecularData\n",
    "\n",
    "import cirq\n",
    "\n",
    "import qiskit\n",
    "import qiskit_ibm_runtime\n",
    "from qiskit.circuit import QuantumCircuit\n",
    "from qiskit.circuit.library import PauliEvolutionGate\n",
    "from qiskit.quantum_info import SparsePauliOp\n",
    "from qiskit.synthesis import LieTrotter, SuzukiTrotter"
   ]
  },
  {
   "cell_type": "markdown",
   "metadata": {},
   "source": [
    "### Grouping algorithms"
   ]
  },
  {
   "cell_type": "code",
   "execution_count": 2,
   "metadata": {},
   "outputs": [],
   "source": [
    "def compute_blocks(qubits: Iterable[cirq.Qid], k: int) -> List[List[cirq.Qid]]:\n",
    "    return [qubits[k * i : k * (i + 1)] for i in range(math.ceil(len(qubits) / k))]\n",
    "\n",
    "\n",
    "def restrict_to(\n",
    "    pauli: cirq.PauliString, qubits: Iterable[cirq.Qid]\n",
    ") -> cirq.PauliString:\n",
    "    \"\"\"Returns the Pauli string restricted to the provided qubits.\n",
    "\n",
    "    Args:\n",
    "        pauli: A Pauli string.\n",
    "        qubits: A set of qubits.\n",
    "\n",
    "    Returns:\n",
    "        The provided Pauli string acting only on the provided qubits.\n",
    "        Note: This could potentially be empty (identity).\n",
    "    \"\"\"\n",
    "    return cirq.PauliString(p.on(q) for q, p in pauli.items() if q in qubits)\n",
    "\n",
    "\n",
    "def commutes(pauli1: cirq.PauliString, pauli2: cirq.PauliString, blocks: List[List[cirq.Qid]]) -> bool:\n",
    "    \"\"\"Returns True if pauli1 k-commutes with pauli2, else False.\n",
    "\n",
    "    Args:\n",
    "        pauli1: A Pauli string.\n",
    "        pauli2: A Pauli string.\n",
    "        blocks: The block partitioning.\n",
    "    \"\"\"\n",
    "    for block in blocks:\n",
    "        if not cirq.commutes(restrict_to(pauli1, block), restrict_to(pauli2, block)):\n",
    "            return False\n",
    "    return True\n",
    "\n",
    "\n",
    "def get_terms_ordered_by_abscoeff(ham: cirq.PauliSum) -> List[cirq.PauliString]:\n",
    "    \"\"\"Returns the terms of the PauliSum ordered by coefficient absolute value.\n",
    "\n",
    "    Args:\n",
    "        ham: A PauliSum.\n",
    "\n",
    "    Returns:\n",
    "        a list of PauliStrings sorted by the absolute value of their coefficient.\n",
    "    \"\"\"\n",
    "    return sorted([term for term in ham], key=lambda x: abs(x.coefficient), reverse=True)\n",
    "\n",
    "\n",
    "def get_si_sets(ham: cirq.PauliSum, k: int = 1) -> List[List[cirq.PauliString]]:\n",
    "    \"\"\"Returns grouping from the sorted insertion algorithm [https://quantum-journal.org/papers/q-2021-01-20-385/].\n",
    "\n",
    "    Args:\n",
    "        ham: The observable to group.\n",
    "        k: The integer k in k-commutativity.\n",
    "    \"\"\"\n",
    "    qubits = sorted(set(ham.qubits))\n",
    "    blocks = compute_blocks(qubits, k)\n",
    "\n",
    "    commuting_sets = []\n",
    "    for pstring in get_terms_ordered_by_abscoeff(ham):\n",
    "        found_commuting_set = False\n",
    "\n",
    "        for commset in commuting_sets:\n",
    "            cant_add = False\n",
    "\n",
    "            for pauli in commset:\n",
    "                if not commutes(pstring, pauli, blocks):\n",
    "                    cant_add = True\n",
    "                    break\n",
    "\n",
    "            if not cant_add:\n",
    "                commset.append(pstring)\n",
    "                found_commuting_set = True\n",
    "                break\n",
    "\n",
    "        if not found_commuting_set:\n",
    "            commuting_sets.append([pstring])\n",
    "\n",
    "    return commuting_sets"
   ]
  },
  {
   "cell_type": "markdown",
   "metadata": {},
   "source": [
    "### OpenFermion sucks"
   ]
  },
  {
   "cell_type": "code",
   "execution_count": 3,
   "metadata": {},
   "outputs": [],
   "source": [
    "def get_qubits(hamiltonian: of.QubitOperator) -> set[int]:\n",
    "    qubits = set()\n",
    "    for p in hamiltonian.get_operators():\n",
    "        for qubit, _ in list(p.terms.keys())[0]:\n",
    "            qubits.add(qubit)\n",
    "    return qubits\n",
    "\n",
    "def get_num_qubits(hamiltonian: of.QubitOperator) -> int:\n",
    "    return len(get_qubits(hamiltonian))\n",
    "\n",
    "\n",
    "def preprocess_hamiltonian(\n",
    "    hamiltonian: of.QubitOperator,\n",
    "    drop_term_if = None,\n",
    ") -> cirq.PauliSum:\n",
    "    \"\"\"Drop identity terms from the Hamiltonian and convert to Cirq format.\n",
    "    \"\"\"\n",
    "    if drop_term_if is None:\n",
    "        drop_term_if = []\n",
    "\n",
    "    new = cirq.PauliSum()\n",
    "\n",
    "    for term in hamiltonian.terms:\n",
    "        add_term = True\n",
    "\n",
    "        for drop_term in drop_term_if:\n",
    "            if drop_term(term):\n",
    "                add_term = False\n",
    "                break\n",
    "\n",
    "        if add_term:\n",
    "            key = \" \".join(pauli + str(index) for index, pauli in term)\n",
    "            new += next(iter(\n",
    "                of.transforms.qubit_operator_to_pauli_sum(\n",
    "                    of.QubitOperator(key, hamiltonian.terms.get(term)\n",
    "                )\n",
    "            )))\n",
    "\n",
    "    return new"
   ]
  },
  {
   "cell_type": "markdown",
   "metadata": {},
   "source": [
    "### HamLib"
   ]
  },
  {
   "cell_type": "code",
   "execution_count": 4,
   "metadata": {},
   "outputs": [],
   "source": [
    "import h5py\n",
    "\n",
    "\n",
    "def read_openfermion_hdf5(fname_hdf5: str, key: str, optype=of.QubitOperator):\n",
    "    \"\"\"\n",
    "    Read any openfermion operator object from HDF5 file at specified key.\n",
    "    'optype' is the op class, can be of.QubitOperator or of.FermionOperator.\n",
    "    \"\"\"\n",
    "\n",
    "    with h5py.File(fname_hdf5, 'r', libver='latest') as f:\n",
    "        op = optype(f[key][()].decode(\"utf-8\"))\n",
    "    return op\n",
    "\n",
    "\n",
    "def parse_through_hdf5(func):\n",
    "    \"\"\"\n",
    "    Decorator function that iterates through an HDF5 file and performs\n",
    "    the action specified by ‘ func ‘ on the internal and leaf nodes in the HDF5 file.\n",
    "    \"\"\"\n",
    "\n",
    "    def wrapper (obj, path = '/', key = None) :\n",
    "        if type(obj) in [h5py._hl.group.Group, h5py._hl.files.File]:\n",
    "            for ky in obj.keys() :\n",
    "                func(obj, path, key=ky, leaf = False)\n",
    "                wrapper(obj = obj[ky], path = path + ky + ',', key = ky)\n",
    "        elif type (obj) == h5py._hl.dataset.Dataset:\n",
    "            func(obj, path, key = None, leaf = True)\n",
    "    return wrapper\n",
    "\n",
    "\n",
    "def get_hdf5_keys (fname_hdf5 : str ) :\n",
    "    \"\"\" Get a list of keys to all datasets stored in the HDF5 file .\n",
    "    Args\n",
    "    ----\n",
    "    fname_hdf5 ( str ) : full path where HDF5 file is stored\n",
    "    \"\"\"\n",
    "\n",
    "    all_keys = []\n",
    "    @parse_through_hdf5\n",
    "    def action(obj, path = '/', key = None, leaf = False):\n",
    "        if leaf is True :\n",
    "            all_keys.append(path)\n",
    "\n",
    "    with h5py.File(fname_hdf5, 'r') as f:\n",
    "        action(f['/'])\n",
    "    return all_keys"
   ]
  },
  {
   "cell_type": "markdown",
   "metadata": {},
   "source": [
    "## Select molecule and load Hamiltonian"
   ]
  },
  {
   "cell_type": "markdown",
   "metadata": {},
   "source": [
    "### From PubChem + OpenFermion"
   ]
  },
  {
   "cell_type": "code",
   "execution_count": 7,
   "metadata": {},
   "outputs": [],
   "source": [
    "# Set parameters to make a simple molecule.\n",
    "geometry = geometry_from_pubchem('water')\n",
    "basis = 'sto-3g'\n",
    "multiplicity = 1\n",
    "charge = 0\n",
    "\n",
    "# Make molecule and print out a few interesting facts about it.\n",
    "molecule = MolecularData(geometry, basis, multiplicity, charge)\n",
    "\n",
    "\n",
    "mol = run_pyscf(molecule, run_mp2=True, run_cisd=True, run_ccsd=True, run_fci=True)\n",
    "mol.save()\n",
    "water = MolecularData(filename=molecule.filename)\n",
    "hamiltonian = water.get_molecular_hamiltonian()\n",
    "hamiltonian = of.get_fermion_operator(hamiltonian)\n",
    "hamiltonian = of.jordan_wigner(hamiltonian)\n",
    "hamiltonian = preprocess_hamiltonian(hamiltonian, drop_term_if=[lambda term: term == ()])  # Drop identity."
   ]
  },
  {
   "cell_type": "markdown",
   "metadata": {},
   "source": [
    "### From HamLib"
   ]
  },
  {
   "cell_type": "code",
   "execution_count": 8,
   "metadata": {},
   "outputs": [],
   "source": [
    "# get_hdf5_keys(\"OH.hdf5\")"
   ]
  },
  {
   "cell_type": "code",
   "execution_count": 9,
   "metadata": {},
   "outputs": [],
   "source": [
    "# hamiltonian = read_openfermion_hdf5(\n",
    "#     \"OH.hdf5\", \"./ham_BK10\"\n",
    "# )\n",
    "# hamiltonian = preprocess_hamiltonian(hamiltonian, drop_term_if=[lambda term: term == ()])  # Drop identity.\n"
   ]
  },
  {
   "cell_type": "markdown",
   "metadata": {},
   "source": [
    "### Show statistics"
   ]
  },
  {
   "cell_type": "code",
   "execution_count": 10,
   "metadata": {},
   "outputs": [
    {
     "name": "stdout",
     "output_type": "stream",
     "text": [
      "Hamiltonian acts on 14 qubit(s) and has 1389 term(s).\n"
     ]
    }
   ],
   "source": [
    "nterms = len(hamiltonian)\n",
    "nqubits = len(hamiltonian.qubits)\n",
    "\n",
    "print(f\"Hamiltonian acts on {nqubits} qubit(s) and has {nterms} term(s).\")"
   ]
  },
  {
   "cell_type": "markdown",
   "metadata": {},
   "source": [
    "## Estimate number of CNOTs for first order Trotter"
   ]
  },
  {
   "cell_type": "code",
   "execution_count": 11,
   "metadata": {},
   "outputs": [
    {
     "data": {
      "text/plain": [
       "59"
      ]
     },
     "execution_count": 11,
     "metadata": {},
     "output_type": "execute_result"
    }
   ],
   "source": [
    "groups = get_si_sets(hamiltonian, k=nqubits)\n",
    "len(groups)"
   ]
  },
  {
   "cell_type": "code",
   "execution_count": 12,
   "metadata": {},
   "outputs": [
    {
     "name": "stdout",
     "output_type": "stream",
     "text": [
      "# terms\t\tMin Weight\tAvg weight\tMax weight\n",
      "----------------------------------------------------------\n",
      "105 \t\t 1 \t\t 2 \t\t\t 2\n",
      "80 \t\t 4 \t\t 8 \t\t\t 10\n",
      "80 \t\t 3 \t\t 5 \t\t\t 8\n",
      "52 \t\t 4 \t\t 8 \t\t\t 11\n",
      "20 \t\t 2 \t\t 4 \t\t\t 6\n",
      "28 \t\t 4 \t\t 8 \t\t\t 12\n",
      "20 \t\t 3 \t\t 5 \t\t\t 6\n",
      "20 \t\t 6 \t\t 8 \t\t\t 10\n",
      "64 \t\t 4 \t\t 9 \t\t\t 14\n",
      "28 \t\t 3 \t\t 4 \t\t\t 6\n",
      "20 \t\t 4 \t\t 8 \t\t\t 10\n",
      "28 \t\t 4 \t\t 6 \t\t\t 8\n",
      "24 \t\t 6 \t\t 6 \t\t\t 6\n",
      "20 \t\t 4 \t\t 6 \t\t\t 10\n",
      "28 \t\t 4 \t\t 9 \t\t\t 10\n",
      "20 \t\t 6 \t\t 8 \t\t\t 12\n",
      "22 \t\t 6 \t\t 8 \t\t\t 10\n",
      "22 \t\t 6 \t\t 7 \t\t\t 10\n",
      "42 \t\t 3 \t\t 8 \t\t\t 12\n",
      "14 \t\t 6 \t\t 8 \t\t\t 13\n",
      "14 \t\t 4 \t\t 8 \t\t\t 13\n",
      "18 \t\t 4 \t\t 7 \t\t\t 10\n",
      "18 \t\t 2 \t\t 7 \t\t\t 8\n",
      "40 \t\t 4 \t\t 7 \t\t\t 8\n",
      "36 \t\t 4 \t\t 8 \t\t\t 12\n",
      "30 \t\t 4 \t\t 8 \t\t\t 12\n",
      "34 \t\t 4 \t\t 8 \t\t\t 12\n",
      "34 \t\t 2 \t\t 7 \t\t\t 12\n",
      "16 \t\t 4 \t\t 7 \t\t\t 10\n",
      "24 \t\t 4 \t\t 7 \t\t\t 12\n",
      "20 \t\t 4 \t\t 8 \t\t\t 12\n",
      "28 \t\t 4 \t\t 7 \t\t\t 12\n",
      "20 \t\t 6 \t\t 7 \t\t\t 10\n",
      "14 \t\t 4 \t\t 5 \t\t\t 10\n",
      "10 \t\t 6 \t\t 8 \t\t\t 10\n",
      "26 \t\t 6 \t\t 9 \t\t\t 12\n",
      "26 \t\t 4 \t\t 7 \t\t\t 12\n",
      "26 \t\t 2 \t\t 9 \t\t\t 14\n",
      "12 \t\t 8 \t\t 11 \t\t\t 12\n",
      "16 \t\t 4 \t\t 10 \t\t\t 14\n",
      "18 \t\t 4 \t\t 7 \t\t\t 12\n",
      "12 \t\t 6 \t\t 9 \t\t\t 12\n",
      "8 \t\t 12 \t\t 12 \t\t\t 12\n",
      "16 \t\t 6 \t\t 9 \t\t\t 10\n",
      "16 \t\t 4 \t\t 8 \t\t\t 12\n",
      "16 \t\t 6 \t\t 8 \t\t\t 12\n",
      "12 \t\t 6 \t\t 8 \t\t\t 10\n",
      "12 \t\t 8 \t\t 9 \t\t\t 10\n",
      "14 \t\t 6 \t\t 9 \t\t\t 12\n",
      "8 \t\t 4 \t\t 7 \t\t\t 10\n",
      "8 \t\t 4 \t\t 7 \t\t\t 10\n",
      "6 \t\t 4 \t\t 8 \t\t\t 14\n",
      "8 \t\t 6 \t\t 6 \t\t\t 6\n",
      "4 \t\t 10 \t\t 10 \t\t\t 10\n",
      "8 \t\t 4 \t\t 6 \t\t\t 8\n",
      "10 \t\t 4 \t\t 5 \t\t\t 6\n",
      "6 \t\t 4 \t\t 4 \t\t\t 4\n",
      "4 \t\t 3 \t\t 6 \t\t\t 8\n",
      "4 \t\t 3 \t\t 4 \t\t\t 4\n"
     ]
    }
   ],
   "source": [
    "print(\"# terms\\t\\tMin Weight\\tAvg weight\\tMax weight\")\n",
    "print(\"-\" * 58)\n",
    "for group in groups:\n",
    "    weights = [len(pauli.qubits) for pauli in group]\n",
    "    print(len(weights), \"\\t\\t\", np.min(weights), \"\\t\\t\", round(np.average(weights)), \"\\t\\t\\t\", np.max(weights))"
   ]
  },
  {
   "cell_type": "code",
   "execution_count": 13,
   "metadata": {},
   "outputs": [
    {
     "data": {
      "text/plain": [
       "42488"
      ]
     },
     "execution_count": 13,
     "metadata": {},
     "output_type": "execute_result"
    }
   ],
   "source": [
    "\"\"\"Estimate using grouping + diagonaliztion + exp(Z...Z) \"ladder\".\"\"\"\n",
    "num_cnots: int = 0\n",
    "for group in groups:\n",
    "    num_cnots += nqubits ** 2  # It takes O(n^2) Clifford gates to diagonalize all terms in this group [https://arxiv.org/abs/quant-ph/0406196].\n",
    "    for term in group:\n",
    "        num_cnots += 2 * len(term.qubits)  # Using 2w CNOTs in a \"ladder\" and one exp(Z) gate on the bottom qubit. See https://arxiv.org/abs/2408.08265v3 Fig. 3.\n",
    "    num_cnots += nqubits ** 2  # Rotating back to the Z basis (undoing the diagonal unitary).\n",
    "\n",
    "num_cnots"
   ]
  },
  {
   "cell_type": "code",
   "execution_count": 14,
   "metadata": {},
   "outputs": [
    {
     "data": {
      "text/plain": [
       "557352"
      ]
     },
     "execution_count": 14,
     "metadata": {},
     "output_type": "execute_result"
    }
   ],
   "source": [
    "\"\"\"Crude estimate.\"\"\"\n",
    "num_cnots_crude: int = 0\n",
    "for term in hamiltonian:\n",
    "    num_cnots_crude += 2 ** (len(term.qubits) - 1)\n",
    "\n",
    "num_cnots_crude"
   ]
  },
  {
   "cell_type": "code",
   "execution_count": 15,
   "metadata": {},
   "outputs": [
    {
     "data": {
      "text/plain": [
       "6070"
      ]
     },
     "execution_count": 15,
     "metadata": {},
     "output_type": "execute_result"
    }
   ],
   "source": [
    "# In an n-qubit circuit, at most n/2 CNOTs can fit in a layer.\n",
    "min_depth = round(num_cnots / (len(hamiltonian.qubits) / 2))\n",
    "min_depth"
   ]
  },
  {
   "cell_type": "markdown",
   "metadata": {},
   "source": [
    "## Qiskit"
   ]
  },
  {
   "cell_type": "code",
   "execution_count": 16,
   "metadata": {},
   "outputs": [],
   "source": [
    "def cirq_pauli_sum_to_qiskit_pauli_op(pauli_sum: cirq.PauliSum) -> SparsePauliOp:\n",
    "    cirq_pauli_to_str = {cirq.X: \"X\", cirq.Y: \"Y\", cirq.Z: \"Z\"}\n",
    "\n",
    "    qubits = hamiltonian.qubits\n",
    "    terms = []\n",
    "    coeffs = []\n",
    "    for term in pauli_sum:\n",
    "        string = \"\"\n",
    "        for qubit in qubits:\n",
    "            if qubit not in term:\n",
    "                string += \"I\"\n",
    "            else:\n",
    "                string += cirq_pauli_to_str[term[qubit]]\n",
    "        terms.append(string)\n",
    "        assert np.isclose(term.coefficient.imag, 0.0, atol=1e-7)\n",
    "        coeffs.append(term.coefficient.real)\n",
    "    return SparsePauliOp(terms, coeffs)"
   ]
  },
  {
   "cell_type": "code",
   "execution_count": 17,
   "metadata": {},
   "outputs": [],
   "source": [
    "H = cirq_pauli_sum_to_qiskit_pauli_op(hamiltonian)"
   ]
  },
  {
   "cell_type": "code",
   "execution_count": 24,
   "metadata": {},
   "outputs": [
    {
     "name": "stdout",
     "output_type": "stream",
     "text": [
      "\n",
      "              Depth: 21544\n",
      "         Gate count: 29639\n",
      "Nonlocal gate count: 16582\n",
      "     Gate breakdown: CX: 16582, U2: 7752, U1: 5164, RZ: 101, RX: 20, H: 20\n",
      "\n"
     ]
    }
   ],
   "source": [
    "order: int = 1\n",
    "cx_structure = \"chain\"  # \"fountain\"\n",
    "trotter_step = PauliEvolutionGate(H, time=1, synthesis=LieTrotter(cx_structure=cx_structure) if order == 1 else SuzukiTrotter(order, cx_structure=cx_structure))\n",
    "\n",
    "circuit = QuantumCircuit(H.num_qubits)\n",
    "circuit.append(trotter_step, range(H.num_qubits))\n",
    "circuit = circuit.decompose(reps=2)\n",
    "\n",
    "print(\n",
    "    f\"\"\"\n",
    "              Depth: {circuit.depth()}\n",
    "         Gate count: {len(circuit)}\n",
    "Nonlocal gate count: {circuit.num_nonlocal_gates()}\n",
    "     Gate breakdown: {\", \".join([f\"{k.upper()}: {v}\" for k, v in circuit.count_ops().items()])}\n",
    "\"\"\"\n",
    ")"
   ]
  },
  {
   "cell_type": "code",
   "execution_count": 25,
   "metadata": {},
   "outputs": [],
   "source": [
    "# circuit.draw(fold=-1)"
   ]
  },
  {
   "cell_type": "markdown",
   "metadata": {},
   "source": [
    "### Compile"
   ]
  },
  {
   "cell_type": "code",
   "execution_count": 28,
   "metadata": {},
   "outputs": [],
   "source": [
    "compiled = qiskit.transpile(\n",
    "    circuit,\n",
    "    optimization_level=3,\n",
    "    basis_gates=[\"u3\", \"cx\"]\n",
    ")"
   ]
  },
  {
   "cell_type": "code",
   "execution_count": 29,
   "metadata": {},
   "outputs": [
    {
     "name": "stdout",
     "output_type": "stream",
     "text": [
      "\n",
      "              Depth: 13306\n",
      "         Gate count: 16673\n",
      "Nonlocal gate count: 10307\n",
      "     Gate breakdown: CX: 10307, U3: 6366\n",
      "\n"
     ]
    }
   ],
   "source": [
    "print(\n",
    "    f\"\"\"\n",
    "              Depth: {compiled.depth()}\n",
    "         Gate count: {len(compiled)}\n",
    "Nonlocal gate count: {compiled.num_nonlocal_gates()}\n",
    "     Gate breakdown: {\", \".join([f\"{k.upper()}: {v}\" for k, v in compiled.count_ops().items()])}\n",
    "\"\"\"\n",
    ")"
   ]
  },
  {
   "cell_type": "code",
   "execution_count": 30,
   "metadata": {},
   "outputs": [],
   "source": [
    "# compiled.draw(fold=-1)"
   ]
  },
  {
   "cell_type": "markdown",
   "metadata": {},
   "source": [
    "### Compile to device"
   ]
  },
  {
   "cell_type": "code",
   "execution_count": 31,
   "metadata": {},
   "outputs": [],
   "source": [
    "service = qiskit_ibm_runtime.QiskitRuntimeService(\n",
    "    channel=\"ibm_cloud\",\n",
    "    token=\"RTtHqAdl2N0_y32QbmvCOZ7PaUu8RdHikYU8cpyHyGx9\",\n",
    "    instance=\"crn:v1:bluemix:public:quantum-computing:us-east:a/141de71a9a7c4961aef7f391d345e9cf:4f489c7a-e6ea-4d6a-b48a-974f3edee812::\",\n",
    ")"
   ]
  },
  {
   "cell_type": "code",
   "execution_count": 32,
   "metadata": {},
   "outputs": [],
   "source": [
    "computer = service.backend(\"ibm_fez\")"
   ]
  },
  {
   "cell_type": "code",
   "execution_count": 33,
   "metadata": {},
   "outputs": [],
   "source": [
    "compiled_fez = qiskit.transpile(\n",
    "    compiled,\n",
    "    backend=computer,\n",
    "    optimization_level=3,\n",
    ")"
   ]
  },
  {
   "cell_type": "code",
   "execution_count": 34,
   "metadata": {},
   "outputs": [
    {
     "name": "stdout",
     "output_type": "stream",
     "text": [
      "\n",
      "              Depth: 40726\n",
      "         Gate count: 65250\n",
      "Nonlocal gate count: 17076\n",
      "     Gate breakdown: SX: 28871, RZ: 18122, CZ: 17076, X: 1181\n",
      "\n"
     ]
    }
   ],
   "source": [
    "print(\n",
    "    f\"\"\"\n",
    "              Depth: {compiled_fez.depth()}\n",
    "         Gate count: {len(compiled_fez)}\n",
    "Nonlocal gate count: {compiled_fez.num_nonlocal_gates()}\n",
    "     Gate breakdown: {\", \".join([f\"{k.upper()}: {v}\" for k, v in compiled_fez.count_ops().items()])}\n",
    "\"\"\"\n",
    ")"
   ]
  },
  {
   "cell_type": "markdown",
   "metadata": {},
   "source": []
  }
 ],
 "metadata": {
  "kernelspec": {
   "display_name": "envcompare",
   "language": "python",
   "name": "python3"
  },
  "language_info": {
   "codemirror_mode": {
    "name": "ipython",
    "version": 3
   },
   "file_extension": ".py",
   "mimetype": "text/x-python",
   "name": "python",
   "nbconvert_exporter": "python",
   "pygments_lexer": "ipython3",
   "version": "3.10.13"
  }
 },
 "nbformat": 4,
 "nbformat_minor": 2
}
