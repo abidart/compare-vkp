{
 "cells": [
  {
   "cell_type": "markdown",
   "metadata": {},
   "source": [
    "# Resource counts"
   ]
  },
  {
   "cell_type": "markdown",
   "metadata": {},
   "source": [
    "This notebook computes the resources to calculate the ground state energy of a Hamiltonian to chemical accuracy using three algorithms:\n",
    "\n",
    "1. VQE\n",
    "1. Quantum Krylov\n",
    "1. Quantum phase estimation"
   ]
  },
  {
   "cell_type": "markdown",
   "metadata": {},
   "source": [
    "## Setup"
   ]
  },
  {
   "cell_type": "code",
   "execution_count": 1,
   "metadata": {},
   "outputs": [],
   "source": [
    "import pickle\n",
    "\n",
    "import matplotlib.pyplot as plt\n",
    "import numpy as np\n",
    "import scipy\n",
    "\n",
    "import openfermion as of\n",
    "from openfermionpyscf import run_pyscf\n",
    "from openfermion.chem import geometry_from_pubchem, MolecularData\n",
    "import openfermion_helper\n",
    "\n",
    "\n",
    "import qiskit\n",
    "import qiskit.qasm3\n",
    "import qiskit_ibm_runtime\n",
    "from qiskit.circuit.library import PauliEvolutionGate\n",
    "from qiskit.synthesis import LieTrotter, SuzukiTrotter"
   ]
  },
  {
   "cell_type": "markdown",
   "metadata": {},
   "source": [
    "## Set Hamiltonian"
   ]
  },
  {
   "cell_type": "markdown",
   "metadata": {},
   "source": [
    "### From PubChem + OpenFermion"
   ]
  },
  {
   "cell_type": "code",
   "execution_count": 2,
   "metadata": {},
   "outputs": [],
   "source": [
    "geometry = [\n",
    "    (\"P\", (-1.034220, -0.234256,0.672434)),\n",
    "    (\"O\", (-1.004065, 0.890081, -0.334695)),\n",
    "    (\"O\", (-0.003166, -1.329504, 0.557597)),\n",
    "    (\"O\", (-2.065823, -0.232403, 1.765329)),\n",
    "    (\"H\", (0.881055, 0.866924, -1.063283)),\n",
    "    (\"O\", (1.748944, 0.417505, -1.047631)),\n",
    "    (\"H\", (1.477276, -0.378346, -0.549750)),\n",
    "]\n",
    "basis = \"sto-3g\"\n",
    "multiplicity = 1\n",
    "charge = 1\n",
    "\n",
    "molecule = MolecularData(geometry, basis, multiplicity, charge)\n",
    "mol = run_pyscf(molecule, run_mp2=True, run_cisd=False, run_ccsd=False, run_fci=False)"
   ]
  },
  {
   "cell_type": "code",
   "execution_count": 3,
   "metadata": {},
   "outputs": [],
   "source": [
    "mol.save()"
   ]
  },
  {
   "cell_type": "code",
   "execution_count": 5,
   "metadata": {},
   "outputs": [],
   "source": [
    "hamiltonian = MolecularData(filename=molecule.filename)"
   ]
  },
  {
   "cell_type": "code",
   "execution_count": 6,
   "metadata": {},
   "outputs": [],
   "source": [
    "hamiltonian = hamiltonian.get_molecular_hamiltonian()"
   ]
  },
  {
   "cell_type": "code",
   "execution_count": 7,
   "metadata": {},
   "outputs": [],
   "source": [
    "hamiltonian = of.get_fermion_operator(hamiltonian)"
   ]
  },
  {
   "cell_type": "code",
   "execution_count": 8,
   "metadata": {},
   "outputs": [],
   "source": [
    "hamiltonian_openfermion = of.jordan_wigner(hamiltonian)"
   ]
  },
  {
   "cell_type": "code",
   "execution_count": 14,
   "metadata": {},
   "outputs": [
    {
     "data": {
      "text/plain": [
       "1219168"
      ]
     },
     "execution_count": 14,
     "metadata": {},
     "output_type": "execute_result"
    }
   ],
   "source": [
    "nterms = len(hamiltonian_openfermion.terms)\n",
    "nterms"
   ]
  },
  {
   "cell_type": "code",
   "execution_count": null,
   "metadata": {},
   "outputs": [],
   "source": [
    "nqubits = openfermion_helper.get_num_qubits(hamiltonian_openfermion)\n",
    "\n",
    "print(f\"Hamiltonian acts on {nqubits} qubit(s) and has {nterms} term(s).\")"
   ]
  },
  {
   "cell_type": "code",
   "execution_count": 24,
   "metadata": {},
   "outputs": [],
   "source": [
    "import cirq\n",
    "\n",
    "\n",
    "def preprocess_hamiltonian(\n",
    "    hamiltonian: of.QubitOperator,\n",
    "    drop_term_if = None,\n",
    ") -> cirq.PauliSum:\n",
    "    \"\"\"Preprocess the Hamiltonian and convert it to a cirq.PauliSum.\"\"\"\n",
    "    if drop_term_if is None:\n",
    "        drop_term_if = []\n",
    "\n",
    "    new = cirq.PauliSum()\n",
    "\n",
    "    for i, term in enumerate(hamiltonian.terms):\n",
    "        print(f\"Status: On term {i} = {term}\", end=\"\\r\")\n",
    "        add_term = True\n",
    "\n",
    "        for drop_term in drop_term_if:\n",
    "            if drop_term(term):\n",
    "                add_term = False\n",
    "                break\n",
    "\n",
    "        if add_term:\n",
    "            key = \" \".join(pauli + str(index) for index, pauli in term)\n",
    "            new += next(iter(\n",
    "                of.transforms.qubit_operator_to_pauli_sum(\n",
    "                    of.QubitOperator(key, hamiltonian.terms.get(term)\n",
    "                )\n",
    "            )))\n",
    "\n",
    "    return new"
   ]
  },
  {
   "cell_type": "code",
   "execution_count": 25,
   "metadata": {},
   "outputs": [
    {
     "name": "stdout",
     "output_type": "stream",
     "text": [
      "Status: On term 34379 = ((0, 'Y'), (1, 'Z'), (2, 'Z'), (3, 'Z'), (4, 'Z'), (5, 'Z'), (6, 'Z'), (7, 'Z'), (8, 'Z'), (9, 'Z'), (10, 'Z'), (11, 'Z'), (12, 'Z'), (13, 'Z'), (14, 'Z'), (15, 'Z'), (16, 'Z'), (17, 'Z'), (18, 'Z'), (19, 'Z'), (20, 'Y'), (21, 'X'), (22, 'Z'), (23, 'Z'), (24, 'Z'), (25, 'Z'), (26, 'Z'), (27, 'Z'), (28, 'Z'), (29, 'Z'), (30, 'Z'), (31, 'Z'), (32, 'Z'), (33, 'Z'), (34, 'Z'), (35, 'Z'), (36, 'Z'), (37, 'Z'), (38, 'Z'), (39, 'Z'), (40, 'Z'), (41, 'X')) (57, 'Z'), (58, 'X')) (57, 'Z'), (58, 'X')) (57, 'Z'), (58, 'Z'), (59, 'Z'), (60, 'X')) (59, 'Z'), (60, 'X')) (59, 'Z'), (60, 'X')) (59, 'Z'), (60, 'X')) (59, 'Z'), (60, 'X')) (59, 'Z'), (60, 'X')) (60, 'Z'), (61, 'X'))\r"
     ]
    },
    {
     "ename": "KeyboardInterrupt",
     "evalue": "",
     "output_type": "error",
     "traceback": [
      "\u001b[0;31m---------------------------------------------------------------------------\u001b[0m",
      "\u001b[0;31mKeyboardInterrupt\u001b[0m                         Traceback (most recent call last)",
      "Cell \u001b[0;32mIn[25], line 1\u001b[0m\n\u001b[0;32m----> 1\u001b[0m hamiltonian \u001b[38;5;241m=\u001b[39m \u001b[43mpreprocess_hamiltonian\u001b[49m\u001b[43m(\u001b[49m\n\u001b[1;32m      2\u001b[0m \u001b[43m    \u001b[49m\u001b[43mhamiltonian_openfermion\u001b[49m\u001b[43m,\u001b[49m\u001b[43m \u001b[49m\u001b[43mdrop_term_if\u001b[49m\u001b[38;5;241;43m=\u001b[39;49m\u001b[43m[\u001b[49m\u001b[38;5;28;43;01mlambda\u001b[39;49;00m\u001b[43m \u001b[49m\u001b[43mterm\u001b[49m\u001b[43m:\u001b[49m\u001b[43m \u001b[49m\u001b[43mterm\u001b[49m\u001b[43m \u001b[49m\u001b[38;5;241;43m==\u001b[39;49m\u001b[43m \u001b[49m\u001b[43m(\u001b[49m\u001b[43m)\u001b[49m\u001b[43m]\u001b[49m\n\u001b[1;32m      3\u001b[0m \u001b[43m)\u001b[49m  \u001b[38;5;66;03m# Drop identity.\u001b[39;00m\n",
      "Cell \u001b[0;32mIn[24], line 25\u001b[0m, in \u001b[0;36mpreprocess_hamiltonian\u001b[0;34m(hamiltonian, drop_term_if)\u001b[0m\n\u001b[1;32m     23\u001b[0m     \u001b[38;5;28;01mif\u001b[39;00m add_term:\n\u001b[1;32m     24\u001b[0m         key \u001b[38;5;241m=\u001b[39m \u001b[38;5;124m\"\u001b[39m\u001b[38;5;124m \u001b[39m\u001b[38;5;124m\"\u001b[39m\u001b[38;5;241m.\u001b[39mjoin(pauli \u001b[38;5;241m+\u001b[39m \u001b[38;5;28mstr\u001b[39m(index) \u001b[38;5;28;01mfor\u001b[39;00m index, pauli \u001b[38;5;129;01min\u001b[39;00m term)\n\u001b[0;32m---> 25\u001b[0m         new \u001b[38;5;241m+\u001b[39m\u001b[38;5;241m=\u001b[39m \u001b[38;5;28mnext\u001b[39m(\u001b[38;5;28miter\u001b[39m(\n\u001b[1;32m     26\u001b[0m             of\u001b[38;5;241m.\u001b[39mtransforms\u001b[38;5;241m.\u001b[39mqubit_operator_to_pauli_sum(\n\u001b[1;32m     27\u001b[0m                 of\u001b[38;5;241m.\u001b[39mQubitOperator(key, hamiltonian\u001b[38;5;241m.\u001b[39mterms\u001b[38;5;241m.\u001b[39mget(term)\n\u001b[1;32m     28\u001b[0m             )\n\u001b[1;32m     29\u001b[0m         )))\n\u001b[1;32m     31\u001b[0m \u001b[38;5;28;01mreturn\u001b[39;00m new\n",
      "File \u001b[0;32m~/prof/work/wellcome/compare/envcomparetest/lib/python3.10/site-packages/cirq/ops/linear_combinations.py:762\u001b[0m, in \u001b[0;36mPauliSum.__iadd__\u001b[0;34m(self, other)\u001b[0m\n\u001b[1;32m    759\u001b[0m \u001b[38;5;28;01mif\u001b[39;00m \u001b[38;5;129;01mnot\u001b[39;00m \u001b[38;5;28misinstance\u001b[39m(other, PauliSum):\n\u001b[1;32m    760\u001b[0m     \u001b[38;5;28;01mreturn\u001b[39;00m \u001b[38;5;28mNotImplemented\u001b[39m\n\u001b[0;32m--> 762\u001b[0m \u001b[38;5;28mself\u001b[39m\u001b[38;5;241m.\u001b[39m_linear_dict \u001b[38;5;241m+\u001b[39m\u001b[38;5;241m=\u001b[39m other\u001b[38;5;241m.\u001b[39m_linear_dict\n\u001b[1;32m    763\u001b[0m \u001b[38;5;28;01mreturn\u001b[39;00m \u001b[38;5;28mself\u001b[39m\n",
      "File \u001b[0;32m~/prof/work/wellcome/compare/envcomparetest/lib/python3.10/site-packages/cirq/value/linear_dict.py:213\u001b[0m, in \u001b[0;36mLinearDict.__iadd__\u001b[0;34m(self, other)\u001b[0m\n\u001b[1;32m    211\u001b[0m     new_coefficient \u001b[38;5;241m=\u001b[39m old_coefficient \u001b[38;5;241m+\u001b[39m other_coefficient\n\u001b[1;32m    212\u001b[0m     \u001b[38;5;28mself\u001b[39m[vector] \u001b[38;5;241m=\u001b[39m new_coefficient\n\u001b[0;32m--> 213\u001b[0m \u001b[38;5;28;01mreturn\u001b[39;00m \u001b[38;5;28;43mself\u001b[39;49m\u001b[38;5;241;43m.\u001b[39;49m\u001b[43mclean\u001b[49m\u001b[43m(\u001b[49m\u001b[43matol\u001b[49m\u001b[38;5;241;43m=\u001b[39;49m\u001b[38;5;241;43m0\u001b[39;49m\u001b[43m)\u001b[49m\n",
      "File \u001b[0;32m~/prof/work/wellcome/compare/envcomparetest/lib/python3.10/site-packages/cirq/value/linear_dict.py:127\u001b[0m, in \u001b[0;36mLinearDict.clean\u001b[0;34m(self, atol)\u001b[0m\n\u001b[1;32m    125\u001b[0m \u001b[38;5;28;01mdef\u001b[39;00m \u001b[38;5;21mclean\u001b[39m(\u001b[38;5;28mself\u001b[39m, \u001b[38;5;241m*\u001b[39m, atol: \u001b[38;5;28mfloat\u001b[39m \u001b[38;5;241m=\u001b[39m \u001b[38;5;241m1e-9\u001b[39m) \u001b[38;5;241m-\u001b[39m\u001b[38;5;241m>\u001b[39m Self:\n\u001b[1;32m    126\u001b[0m \u001b[38;5;250m    \u001b[39m\u001b[38;5;124;03m\"\"\"Remove terms with coefficients of absolute value atol or less.\"\"\"\u001b[39;00m\n\u001b[0;32m--> 127\u001b[0m     negligible \u001b[38;5;241m=\u001b[39m [v \u001b[38;5;28;01mfor\u001b[39;00m v, c \u001b[38;5;129;01min\u001b[39;00m \u001b[38;5;28mself\u001b[39m\u001b[38;5;241m.\u001b[39m_terms\u001b[38;5;241m.\u001b[39mitems() \u001b[38;5;28;01mif\u001b[39;00m \u001b[38;5;28mabs\u001b[39m(c) \u001b[38;5;241m<\u001b[39m\u001b[38;5;241m=\u001b[39m atol]  \u001b[38;5;66;03m# type: ignore[operator]\u001b[39;00m\n\u001b[1;32m    128\u001b[0m     \u001b[38;5;28;01mfor\u001b[39;00m v \u001b[38;5;129;01min\u001b[39;00m negligible:\n\u001b[1;32m    129\u001b[0m         \u001b[38;5;28;01mdel\u001b[39;00m \u001b[38;5;28mself\u001b[39m\u001b[38;5;241m.\u001b[39m_terms[v]\n",
      "File \u001b[0;32m~/prof/work/wellcome/compare/envcomparetest/lib/python3.10/site-packages/cirq/value/linear_dict.py:127\u001b[0m, in \u001b[0;36m<listcomp>\u001b[0;34m(.0)\u001b[0m\n\u001b[1;32m    125\u001b[0m \u001b[38;5;28;01mdef\u001b[39;00m \u001b[38;5;21mclean\u001b[39m(\u001b[38;5;28mself\u001b[39m, \u001b[38;5;241m*\u001b[39m, atol: \u001b[38;5;28mfloat\u001b[39m \u001b[38;5;241m=\u001b[39m \u001b[38;5;241m1e-9\u001b[39m) \u001b[38;5;241m-\u001b[39m\u001b[38;5;241m>\u001b[39m Self:\n\u001b[1;32m    126\u001b[0m \u001b[38;5;250m    \u001b[39m\u001b[38;5;124;03m\"\"\"Remove terms with coefficients of absolute value atol or less.\"\"\"\u001b[39;00m\n\u001b[0;32m--> 127\u001b[0m     negligible \u001b[38;5;241m=\u001b[39m [v \u001b[38;5;28;01mfor\u001b[39;00m v, c \u001b[38;5;129;01min\u001b[39;00m \u001b[38;5;28mself\u001b[39m\u001b[38;5;241m.\u001b[39m_terms\u001b[38;5;241m.\u001b[39mitems() \u001b[38;5;28;01mif\u001b[39;00m \u001b[38;5;28;43mabs\u001b[39;49m\u001b[43m(\u001b[49m\u001b[43mc\u001b[49m\u001b[43m)\u001b[49m \u001b[38;5;241m<\u001b[39m\u001b[38;5;241m=\u001b[39m atol]  \u001b[38;5;66;03m# type: ignore[operator]\u001b[39;00m\n\u001b[1;32m    128\u001b[0m     \u001b[38;5;28;01mfor\u001b[39;00m v \u001b[38;5;129;01min\u001b[39;00m negligible:\n\u001b[1;32m    129\u001b[0m         \u001b[38;5;28;01mdel\u001b[39;00m \u001b[38;5;28mself\u001b[39m\u001b[38;5;241m.\u001b[39m_terms[v]\n",
      "\u001b[0;31mKeyboardInterrupt\u001b[0m: "
     ]
    }
   ],
   "source": [
    "hamiltonian = preprocess_hamiltonian(\n",
    "    hamiltonian_openfermion, drop_term_if=[lambda term: term == ()]\n",
    ")  # Drop identity."
   ]
  },
  {
   "cell_type": "code",
   "execution_count": 2,
   "metadata": {},
   "outputs": [],
   "source": [
    "# # Set parameters to make a simple molecule.\n",
    "# geometry = geometry_from_pubchem(\"water\")\n",
    "# basis = \"sto-3g\"\n",
    "# multiplicity = 1\n",
    "# charge = 0\n",
    "\n",
    "# # Make molecule.\n",
    "# molecule = MolecularData(geometry, basis, multiplicity, charge)\n",
    "\n",
    "# mol = run_pyscf(molecule, run_mp2=True, run_cisd=True, run_ccsd=True, run_fci=True)\n",
    "# mol.save()\n",
    "# hamiltonian = MolecularData(filename=molecule.filename)\n",
    "# hamiltonian = hamiltonian.get_molecular_hamiltonian()\n",
    "# hamiltonian = of.get_fermion_operator(hamiltonian)\n",
    "# hamiltonian_openfermion = of.jordan_wigner(hamiltonian)\n",
    "# hamiltonian = openfermion_helper.preprocess_hamiltonian(hamiltonian_openfermion, drop_term_if=[lambda term: term == ()])  # Drop identity."
   ]
  },
  {
   "cell_type": "markdown",
   "metadata": {},
   "source": [
    "### Show statistics"
   ]
  },
  {
   "cell_type": "code",
   "execution_count": null,
   "metadata": {},
   "outputs": [],
   "source": [
    "nterms = len(hamiltonian)\n",
    "nqubits = len(hamiltonian.qubits)\n",
    "\n",
    "print(f\"Hamiltonian acts on {nqubits} qubit(s) and has {nterms} term(s).\")"
   ]
  },
  {
   "cell_type": "markdown",
   "metadata": {},
   "source": [
    "## Time evolution resources: Compute the number of CNOTs for first order Trotter"
   ]
  },
  {
   "cell_type": "markdown",
   "metadata": {},
   "source": [
    "We use time evolution as a subroutine for quantum Krylov and phase estimation, so first we compute the cost of a first order Trotter step."
   ]
  },
  {
   "cell_type": "markdown",
   "metadata": {},
   "source": [
    "### (1) Crude estimate"
   ]
  },
  {
   "cell_type": "code",
   "execution_count": null,
   "metadata": {},
   "outputs": [],
   "source": [
    "\"\"\"Crude estimate.\"\"\"\n",
    "num_cnots_crude: int = 0\n",
    "for term in hamiltonian:\n",
    "    num_cnots_crude += 2 ** (len(term.qubits) - 1)\n",
    "\n",
    "num_cnots_crude"
   ]
  },
  {
   "cell_type": "markdown",
   "metadata": {},
   "source": [
    "### (2) Grouping + CNOT ladder"
   ]
  },
  {
   "cell_type": "code",
   "execution_count": null,
   "metadata": {},
   "outputs": [],
   "source": [
    "\"\"\"Estimate using grouping + diagonaliztion + exp(Z...Z) \"ladder\".\"\"\"\n",
    "import kcommute\n",
    "\n",
    "\n",
    "groups = kcommute.get_si_sets(hamiltonian, k=nqubits)\n",
    "\n",
    "num_cnots: int = 0\n",
    "for group in groups:\n",
    "    num_cnots += nqubits ** 2  # It takes O(n^2) Clifford gates to diagonalize all terms in this group [https://arxiv.org/abs/quant-ph/0406196].\n",
    "    for term in group:\n",
    "        num_cnots += 2 * len(term.qubits)  # Using 2w CNOTs in a \"ladder\" and one exp(Z) gate on the bottom qubit. See https://arxiv.org/abs/2408.08265v3 Fig. 3.\n",
    "    num_cnots += nqubits ** 2  # Rotating back to the Z basis (undoing the diagonal unitary).\n",
    "\n",
    "num_cnots"
   ]
  },
  {
   "cell_type": "markdown",
   "metadata": {},
   "source": [
    "### (3) Qiskit's `PauliHedral` method"
   ]
  },
  {
   "cell_type": "code",
   "execution_count": null,
   "metadata": {},
   "outputs": [],
   "source": [
    "import convert\n",
    "\n",
    "\n",
    "H = convert.cirq_pauli_sum_to_qiskit_pauli_op(hamiltonian)\n",
    "\n",
    "# Following https://qiskit-community.github.io/qiskit-algorithms/tutorials/13_trotterQRTE.html.\n",
    "order: int = 1\n",
    "cx_structure = \"chain\"  # \"fountain\"\n",
    "trotter_step = PauliEvolutionGate(H, time=1, synthesis=LieTrotter(cx_structure=cx_structure) if order == 1 else SuzukiTrotter(order, cx_structure=cx_structure))\n",
    "\n",
    "circuit = qiskit.QuantumCircuit(H.num_qubits)\n",
    "circuit.append(trotter_step, range(H.num_qubits))\n",
    "circuit = circuit.decompose(reps=2)\n",
    "\n",
    "print(\n",
    "    f\"\"\"\n",
    "Depth: {circuit.depth()}\n",
    "Gates: {\", \".join([f\"{k.upper()}: {v}\" for k, v in circuit.count_ops().items()])}\n",
    "\"\"\"\n",
    ")\n",
    "# circuit.draw(fold=-1)"
   ]
  },
  {
   "cell_type": "markdown",
   "metadata": {},
   "source": [
    "### Compile"
   ]
  },
  {
   "cell_type": "code",
   "execution_count": null,
   "metadata": {},
   "outputs": [],
   "source": [
    "compiled = qiskit.transpile(\n",
    "    circuit,\n",
    "    optimization_level=3,\n",
    "    basis_gates=[\"u3\", \"cx\"]\n",
    ")\n",
    "print(\n",
    "    f\"\"\"\n",
    "Depth: {compiled.depth()}\n",
    "Gates: {\", \".join([f\"{k.upper()}: {v}\" for k, v in compiled.count_ops().items()])}\n",
    "\"\"\"\n",
    ")\n",
    "# compiled.draw(fold=-1)"
   ]
  },
  {
   "cell_type": "markdown",
   "metadata": {},
   "source": [
    "### Compile to device"
   ]
  },
  {
   "cell_type": "code",
   "execution_count": null,
   "metadata": {},
   "outputs": [],
   "source": [
    "computer = qiskit_ibm_runtime.fake_provider.FakeKyiv()\n",
    "\n",
    "compiled_kyiv = qiskit.transpile(\n",
    "    compiled,\n",
    "    backend=computer,\n",
    "    optimization_level=3,\n",
    ")\n",
    "print(\n",
    "    f\"\"\"\n",
    "Depth: {compiled_kyiv.depth()}\n",
    "Gates: {\", \".join([f\"{k.upper()}: {v}\" for k, v in compiled_kyiv.count_ops().items()])}\n",
    "\"\"\"\n",
    ")"
   ]
  },
  {
   "cell_type": "markdown",
   "metadata": {},
   "source": [
    "## Number of Trotter steps for chemical accuracy"
   ]
  },
  {
   "cell_type": "markdown",
   "metadata": {},
   "source": [
    "See https://arxiv.org/abs/1912.08854."
   ]
  },
  {
   "cell_type": "code",
   "execution_count": null,
   "metadata": {},
   "outputs": [],
   "source": [
    "error = np.sum(np.abs(H.coeffs))  # Loose error bound from https://arxiv.org/abs/1912.08854.\n",
    "\n",
    "epsilon: float = 0.001  # mHa\n",
    "\n",
    "nsteps = round(error / epsilon)\n",
    "nsteps"
   ]
  },
  {
   "cell_type": "markdown",
   "metadata": {},
   "source": [
    "## VQE resources"
   ]
  },
  {
   "cell_type": "markdown",
   "metadata": {},
   "source": [
    "### Gates"
   ]
  },
  {
   "cell_type": "markdown",
   "metadata": {},
   "source": [
    "Read in VQE circuits."
   ]
  },
  {
   "cell_type": "code",
   "execution_count": null,
   "metadata": {},
   "outputs": [],
   "source": [
    "circuit_vqe = qiskit.qasm3.loads(pickle.load(open(\"kyiv_circuit_h2o\", \"rb\")))\n",
    "\n",
    "print(\n",
    "    f\"\"\"\n",
    "              Depth: {circuit_vqe.depth()}\n",
    "         Gate count: {len(circuit_vqe)}\n",
    "Nonlocal gate count: {circuit_vqe.num_nonlocal_gates()}\n",
    "     Gate breakdown: {\", \".join([f\"{k.upper()}: {v}\" for k, v in circuit_vqe.count_ops().items()])}\n",
    "\"\"\"\n",
    ")"
   ]
  },
  {
   "cell_type": "markdown",
   "metadata": {},
   "source": [
    "## Number of shots"
   ]
  },
  {
   "cell_type": "markdown",
   "metadata": {},
   "source": [
    "We compute the number of shots needed to compute one energy (cost function) $\\langle \\psi | H | \\psi \\rangle$ to accuracy $\\epsilon$."
   ]
  },
  {
   "cell_type": "code",
   "execution_count": 11,
   "metadata": {},
   "outputs": [],
   "source": [
    "eval, evec = scipy.sparse.linalg.eigsh(\n",
    "    of.linalg.get_sparse_operator(hamiltonian_openfermion),\n",
    "    k=1,\n",
    "    which=\"SA\"\n",
    ")\n",
    "evec = evec.flatten()"
   ]
  },
  {
   "cell_type": "code",
   "execution_count": null,
   "metadata": {},
   "outputs": [],
   "source": [
    "epsilons = [0.1, 0.01, 0.001]\n",
    "kvals = [1, 2, nqubits // 2, nqubits]\n",
    "\n",
    "all_shots = []\n",
    "for k in kvals:\n",
    "    groups = kcommute.get_si_sets(hamiltonian, k=k)\n",
    "    groups_of = convert.to_groups_of(groups)\n",
    "    base_shots = kcommute.compute_shots(groups_of, evec, epsilon=1)\n",
    "    shots = [base_shots / epsilon ** 2 for epsilon in epsilons]\n",
    "    all_shots.append(shots)\n",
    "    print(all_shots)"
   ]
  },
  {
   "cell_type": "code",
   "execution_count": null,
   "metadata": {},
   "outputs": [],
   "source": [
    "plt.rcParams.update({\"font.family\": \"serif\", \"font.size\": 12})\n",
    "\n",
    "\n",
    "for kval, shots in zip(kvals, all_shots):\n",
    "    plt.loglog(epsilons, shots, \"--o\", alpha=0.75, mec=\"black\", label=f\"$k = {kval}$\")\n",
    "\n",
    "plt.legend()\n",
    "plt.xlabel(\"Accuracy $\\epsilon$\")\n",
    "plt.ylabel(\"Shots $N$\")\n",
    "plt.title(f\"$k$-commuting shot counts w.r.t. ground state\\n for H2O ({nqubits} qubits, {nterms} Paulis)\");"
   ]
  },
  {
   "cell_type": "markdown",
   "metadata": {},
   "source": []
  }
 ],
 "metadata": {
  "kernelspec": {
   "display_name": "envcomparetest",
   "language": "python",
   "name": "envcomparetest"
  },
  "language_info": {
   "codemirror_mode": {
    "name": "ipython",
    "version": 3
   },
   "file_extension": ".py",
   "mimetype": "text/x-python",
   "name": "python",
   "nbconvert_exporter": "python",
   "pygments_lexer": "ipython3",
   "version": "3.10.13"
  }
 },
 "nbformat": 4,
 "nbformat_minor": 2
}
