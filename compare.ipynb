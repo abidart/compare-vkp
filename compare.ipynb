{
 "cells": [
  {
   "cell_type": "markdown",
   "metadata": {},
   "source": [
    "# Time evolution resource counts"
   ]
  },
  {
   "cell_type": "markdown",
   "metadata": {},
   "source": [
    "## Setup"
   ]
  },
  {
   "cell_type": "code",
   "execution_count": 1,
   "metadata": {},
   "outputs": [],
   "source": [
    "import math\n",
    "import pickle\n",
    "from typing import Iterable, List\n",
    "\n",
    "import matplotlib.pyplot as plt\n",
    "import numpy as np\n",
    "import scipy\n",
    "\n",
    "import openfermion as of\n",
    "from openfermionpyscf import run_pyscf, generate_molecular_hamiltonian\n",
    "from openfermion.chem import geometry_from_pubchem, MolecularData\n",
    "\n",
    "import cirq\n",
    "\n",
    "import qiskit\n",
    "import qiskit.qasm3\n",
    "import qiskit_ibm_runtime\n",
    "from qiskit.circuit.library import PauliEvolutionGate\n",
    "from qiskit.quantum_info import SparsePauliOp\n",
    "from qiskit.synthesis import LieTrotter, SuzukiTrotter"
   ]
  },
  {
   "cell_type": "markdown",
   "metadata": {},
   "source": [
    "### Grouping algorithms"
   ]
  },
  {
   "cell_type": "code",
   "execution_count": 2,
   "metadata": {},
   "outputs": [],
   "source": [
    "# This code from https://arxiv.org/abs/2312.11840.\n",
    "def compute_blocks(qubits: Iterable[cirq.Qid], k: int) -> List[List[cirq.Qid]]:\n",
    "    return [qubits[k * i : k * (i + 1)] for i in range(math.ceil(len(qubits) / k))]\n",
    "\n",
    "\n",
    "def restrict_to(\n",
    "    pauli: cirq.PauliString, qubits: Iterable[cirq.Qid]\n",
    ") -> cirq.PauliString:\n",
    "    \"\"\"Returns the Pauli string restricted to the provided qubits.\n",
    "\n",
    "    Args:\n",
    "        pauli: A Pauli string.\n",
    "        qubits: A set of qubits.\n",
    "\n",
    "    Returns:\n",
    "        The provided Pauli string acting only on the provided qubits.\n",
    "        Note: This could potentially be empty (identity).\n",
    "    \"\"\"\n",
    "    return cirq.PauliString(p.on(q) for q, p in pauli.items() if q in qubits)\n",
    "\n",
    "\n",
    "def commutes(pauli1: cirq.PauliString, pauli2: cirq.PauliString, blocks: List[List[cirq.Qid]]) -> bool:\n",
    "    \"\"\"Returns True if pauli1 k-commutes with pauli2, else False.\n",
    "\n",
    "    Args:\n",
    "        pauli1: A Pauli string.\n",
    "        pauli2: A Pauli string.\n",
    "        blocks: The block partitioning.\n",
    "    \"\"\"\n",
    "    for block in blocks:\n",
    "        if not cirq.commutes(restrict_to(pauli1, block), restrict_to(pauli2, block)):\n",
    "            return False\n",
    "    return True\n",
    "\n",
    "\n",
    "def get_terms_ordered_by_abscoeff(ham: cirq.PauliSum) -> List[cirq.PauliString]:\n",
    "    \"\"\"Returns the terms of the PauliSum ordered by coefficient absolute value.\n",
    "\n",
    "    Args:\n",
    "        ham: A PauliSum.\n",
    "\n",
    "    Returns:\n",
    "        a list of PauliStrings sorted by the absolute value of their coefficient.\n",
    "    \"\"\"\n",
    "    return sorted([term for term in ham], key=lambda x: abs(x.coefficient), reverse=True)\n",
    "\n",
    "\n",
    "def get_si_sets(ham: cirq.PauliSum, k: int = 1) -> List[List[cirq.PauliString]]:\n",
    "    \"\"\"Returns grouping from the sorted insertion algorithm [https://quantum-journal.org/papers/q-2021-01-20-385/].\n",
    "\n",
    "    Args:\n",
    "        ham: The observable to group.\n",
    "        k: The integer k in k-commutativity.\n",
    "    \"\"\"\n",
    "    qubits = sorted(set(ham.qubits))\n",
    "    blocks = compute_blocks(qubits, k)\n",
    "\n",
    "    commuting_sets = []\n",
    "    terms = get_terms_ordered_by_abscoeff(ham)\n",
    "    for pstring in terms:\n",
    "        found_commuting_set = False\n",
    "\n",
    "        for commset in commuting_sets:\n",
    "            cant_add = False\n",
    "\n",
    "            for pauli in commset:\n",
    "                if not commutes(pstring, pauli, blocks):\n",
    "                    cant_add = True\n",
    "                    break\n",
    "\n",
    "            if not cant_add:\n",
    "                commset.append(pstring)\n",
    "                found_commuting_set = True\n",
    "                break\n",
    "\n",
    "        if not found_commuting_set:\n",
    "            commuting_sets.append([pstring])\n",
    "\n",
    "    return commuting_sets"
   ]
  },
  {
   "cell_type": "markdown",
   "metadata": {},
   "source": [
    "### OpenFermion helper"
   ]
  },
  {
   "cell_type": "code",
   "execution_count": 3,
   "metadata": {},
   "outputs": [],
   "source": [
    "def get_qubits(hamiltonian: of.QubitOperator) -> set[int]:\n",
    "    qubits = set()\n",
    "    for p in hamiltonian.get_operators():\n",
    "        for qubit, _ in list(p.terms.keys())[0]:\n",
    "            qubits.add(qubit)\n",
    "    return qubits\n",
    "\n",
    "\n",
    "def get_num_qubits(hamiltonian: of.QubitOperator) -> int:\n",
    "    return len(get_qubits(hamiltonian))\n",
    "\n",
    "\n",
    "def preprocess_hamiltonian(\n",
    "    hamiltonian: of.QubitOperator,\n",
    "    drop_term_if = None,\n",
    ") -> cirq.PauliSum:\n",
    "    \"\"\"Drop identity terms from the Hamiltonian and convert to Cirq format.\"\"\"\n",
    "    if drop_term_if is None:\n",
    "        drop_term_if = []\n",
    "\n",
    "    new = cirq.PauliSum()\n",
    "\n",
    "    for term in hamiltonian.terms:\n",
    "        add_term = True\n",
    "\n",
    "        for drop_term in drop_term_if:\n",
    "            if drop_term(term):\n",
    "                add_term = False\n",
    "                break\n",
    "\n",
    "        if add_term:\n",
    "            key = \" \".join(pauli + str(index) for index, pauli in term)\n",
    "            new += next(iter(\n",
    "                of.transforms.qubit_operator_to_pauli_sum(\n",
    "                    of.QubitOperator(key, hamiltonian.terms.get(term)\n",
    "                )\n",
    "            )))\n",
    "\n",
    "    return new"
   ]
  },
  {
   "cell_type": "markdown",
   "metadata": {},
   "source": [
    "## Select molecule and load Hamiltonian"
   ]
  },
  {
   "cell_type": "markdown",
   "metadata": {},
   "source": [
    "### From PubChem + OpenFermion"
   ]
  },
  {
   "cell_type": "code",
   "execution_count": 4,
   "metadata": {},
   "outputs": [],
   "source": [
    "# Set parameters to make a simple molecule.\n",
    "geometry = geometry_from_pubchem('water')\n",
    "basis = 'sto-3g'\n",
    "multiplicity = 1\n",
    "charge = 0\n",
    "\n",
    "# Make molecule and print out a few interesting facts about it.\n",
    "molecule = MolecularData(geometry, basis, multiplicity, charge)\n",
    "\n",
    "\n",
    "mol = run_pyscf(molecule, run_mp2=True, run_cisd=True, run_ccsd=True, run_fci=True)\n",
    "mol.save()\n",
    "water = MolecularData(filename=molecule.filename)\n",
    "hamiltonian = water.get_molecular_hamiltonian()\n",
    "hamiltonian = of.get_fermion_operator(hamiltonian)\n",
    "hamiltonian_openfermion = of.jordan_wigner(hamiltonian)\n",
    "hamiltonian = preprocess_hamiltonian(hamiltonian_openfermion, drop_term_if=[lambda term: term == ()])  # Drop identity."
   ]
  },
  {
   "cell_type": "markdown",
   "metadata": {},
   "source": [
    "### From Norm and Wayne"
   ]
  },
  {
   "cell_type": "code",
   "execution_count": 5,
   "metadata": {},
   "outputs": [],
   "source": [
    "# geometry = [\n",
    "#     (\"O\", (0.0, 0.0, 0.1173)), \n",
    "#     (\"H\", (0.0, 0.7572, -0.4692)), \n",
    "#     (\"H\", (0.0, -0.7572, -0.4692))\n",
    "# ]\n",
    "# basis = \"sto-3g\"\n",
    "# multiplicity = 1\n",
    "# charge = 0\n",
    "\n",
    "# hamiltonian = generate_molecular_hamiltonian(\n",
    "#     geometry, basis, multiplicity, charge\n",
    "# )\n",
    "\n",
    "# # Convert to a FermionOperator\n",
    "# hamiltonian_ferm_op = of.get_fermion_operator(hamiltonian)\n",
    "\n",
    "# # Get the active space hamiltonian\n",
    "# freeze_occ_spin_orbs = [0, 1, 2, 3, 4, 5]\n",
    "# remove_vir_spin_orbs = []\n",
    "# hamiltonian_ferm_op_active = of.transforms.freeze_orbitals(hamiltonian_ferm_op, freeze_occ_spin_orbs, remove_vir_spin_orbs)\n",
    "\n",
    "# hamiltonian = hamiltonian_ferm_op_active\n",
    "# hamiltonian = of.jordan_wigner(hamiltonian)\n",
    "# hamiltonian = preprocess_hamiltonian(hamiltonian, drop_term_if=[lambda term: term == ()])  # Drop identity."
   ]
  },
  {
   "cell_type": "markdown",
   "metadata": {},
   "source": [
    "### From HamLib"
   ]
  },
  {
   "cell_type": "code",
   "execution_count": 6,
   "metadata": {},
   "outputs": [],
   "source": [
    "# import hamlib_helper\n",
    "\n",
    "\n",
    "# hamlib_helper.get_hdf5_keys(\"OH.hdf5\")  # See available keys.\n",
    "\n",
    "# hamiltonian = hamlib_helper.read_openfermion_hdf5(\n",
    "#     \"OH.hdf5\", \"./ham_BK10\"\n",
    "# )\n",
    "# hamiltonian = preprocess_hamiltonian(hamiltonian, drop_term_if=[lambda term: term == ()])  # Drop identity."
   ]
  },
  {
   "cell_type": "markdown",
   "metadata": {},
   "source": [
    "### Show statistics"
   ]
  },
  {
   "cell_type": "code",
   "execution_count": 7,
   "metadata": {},
   "outputs": [
    {
     "name": "stdout",
     "output_type": "stream",
     "text": [
      "Hamiltonian acts on 14 qubit(s) and has 1389 term(s).\n"
     ]
    }
   ],
   "source": [
    "nterms = len(hamiltonian)\n",
    "nqubits = len(hamiltonian.qubits)\n",
    "\n",
    "print(f\"Hamiltonian acts on {nqubits} qubit(s) and has {nterms} term(s).\")"
   ]
  },
  {
   "cell_type": "markdown",
   "metadata": {},
   "source": [
    "## Estimate number of CNOTs for first order Trotter"
   ]
  },
  {
   "cell_type": "markdown",
   "metadata": {},
   "source": [
    "### (1) Crude estimate"
   ]
  },
  {
   "cell_type": "code",
   "execution_count": 8,
   "metadata": {},
   "outputs": [
    {
     "data": {
      "text/plain": [
       "557352"
      ]
     },
     "execution_count": 8,
     "metadata": {},
     "output_type": "execute_result"
    }
   ],
   "source": [
    "\"\"\"Crude estimate.\"\"\"\n",
    "num_cnots_crude: int = 0\n",
    "for term in hamiltonian:\n",
    "    num_cnots_crude += 2 ** (len(term.qubits) - 1)\n",
    "\n",
    "num_cnots_crude"
   ]
  },
  {
   "cell_type": "markdown",
   "metadata": {},
   "source": [
    "### (2) Grouping + CNOT ladder"
   ]
  },
  {
   "cell_type": "code",
   "execution_count": 9,
   "metadata": {},
   "outputs": [
    {
     "data": {
      "text/plain": [
       "42488"
      ]
     },
     "execution_count": 9,
     "metadata": {},
     "output_type": "execute_result"
    }
   ],
   "source": [
    "\"\"\"Estimate using grouping + diagonaliztion + exp(Z...Z) \"ladder\".\"\"\"\n",
    "groups = get_si_sets(hamiltonian, k=nqubits)\n",
    "\n",
    "num_cnots: int = 0\n",
    "for group in groups:\n",
    "    num_cnots += nqubits ** 2  # It takes O(n^2) Clifford gates to diagonalize all terms in this group [https://arxiv.org/abs/quant-ph/0406196].\n",
    "    for term in group:\n",
    "        num_cnots += 2 * len(term.qubits)  # Using 2w CNOTs in a \"ladder\" and one exp(Z) gate on the bottom qubit. See https://arxiv.org/abs/2408.08265v3 Fig. 3.\n",
    "    num_cnots += nqubits ** 2  # Rotating back to the Z basis (undoing the diagonal unitary).\n",
    "\n",
    "num_cnots"
   ]
  },
  {
   "cell_type": "markdown",
   "metadata": {},
   "source": [
    "### (3) Qiskit's `PauliHedral` method"
   ]
  },
  {
   "cell_type": "code",
   "execution_count": 10,
   "metadata": {},
   "outputs": [],
   "source": [
    "def cirq_pauli_sum_to_qiskit_pauli_op(pauli_sum: cirq.PauliSum) -> SparsePauliOp:\n",
    "    \"\"\"Returns a qiskit.SparsePauliOp representation of the cirq.PauliSum.\"\"\"\n",
    "    cirq_pauli_to_str = {cirq.X: \"X\", cirq.Y: \"Y\", cirq.Z: \"Z\"}\n",
    "\n",
    "    qubits = hamiltonian.qubits\n",
    "    terms = []\n",
    "    coeffs = []\n",
    "    for term in pauli_sum:\n",
    "        string = \"\"\n",
    "        for qubit in qubits:\n",
    "            if qubit not in term:\n",
    "                string += \"I\"\n",
    "            else:\n",
    "                string += cirq_pauli_to_str[term[qubit]]\n",
    "        terms.append(string)\n",
    "        assert np.isclose(term.coefficient.imag, 0.0, atol=1e-7)\n",
    "        coeffs.append(term.coefficient.real)\n",
    "    return SparsePauliOp(terms, coeffs)"
   ]
  },
  {
   "cell_type": "code",
   "execution_count": 11,
   "metadata": {},
   "outputs": [],
   "source": [
    "H = cirq_pauli_sum_to_qiskit_pauli_op(hamiltonian)"
   ]
  },
  {
   "cell_type": "code",
   "execution_count": 12,
   "metadata": {},
   "outputs": [
    {
     "name": "stdout",
     "output_type": "stream",
     "text": [
      "\n",
      "              Depth: 21544\n",
      "         Gate count: 29639\n",
      "Nonlocal gate count: 16582\n",
      "     Gate breakdown: CX: 16582, U2: 7752, U1: 5164, RZ: 101, RX: 20, H: 20\n",
      "\n"
     ]
    }
   ],
   "source": [
    "# Following https://qiskit-community.github.io/qiskit-algorithms/tutorials/13_trotterQRTE.html.\n",
    "order: int = 1\n",
    "cx_structure = \"chain\"  # \"fountain\"\n",
    "trotter_step = PauliEvolutionGate(H, time=1, synthesis=LieTrotter(cx_structure=cx_structure) if order == 1 else SuzukiTrotter(order, cx_structure=cx_structure))\n",
    "\n",
    "circuit = qiskit.QuantumCircuit(H.num_qubits)\n",
    "circuit.append(trotter_step, range(H.num_qubits))\n",
    "circuit = circuit.decompose(reps=2)\n",
    "\n",
    "print(\n",
    "    f\"\"\"\n",
    "              Depth: {circuit.depth()}\n",
    "         Gate count: {len(circuit)}\n",
    "Nonlocal gate count: {circuit.num_nonlocal_gates()}\n",
    "     Gate breakdown: {\", \".join([f\"{k.upper()}: {v}\" for k, v in circuit.count_ops().items()])}\n",
    "\"\"\"\n",
    ")"
   ]
  },
  {
   "cell_type": "code",
   "execution_count": 13,
   "metadata": {},
   "outputs": [],
   "source": [
    "# circuit.draw(fold=-1)"
   ]
  },
  {
   "cell_type": "markdown",
   "metadata": {},
   "source": [
    "### Compile"
   ]
  },
  {
   "cell_type": "code",
   "execution_count": 14,
   "metadata": {},
   "outputs": [],
   "source": [
    "compiled = qiskit.transpile(\n",
    "    circuit,\n",
    "    optimization_level=3,\n",
    "    basis_gates=[\"u3\", \"cx\"]\n",
    ")"
   ]
  },
  {
   "cell_type": "code",
   "execution_count": 15,
   "metadata": {},
   "outputs": [
    {
     "name": "stdout",
     "output_type": "stream",
     "text": [
      "\n",
      "              Depth: 13310\n",
      "         Gate count: 16679\n",
      "Nonlocal gate count: 10307\n",
      "     Gate breakdown: CX: 10307, U3: 6372\n",
      "\n"
     ]
    }
   ],
   "source": [
    "print(\n",
    "    f\"\"\"\n",
    "              Depth: {compiled.depth()}\n",
    "         Gate count: {len(compiled)}\n",
    "Nonlocal gate count: {compiled.num_nonlocal_gates()}\n",
    "     Gate breakdown: {\", \".join([f\"{k.upper()}: {v}\" for k, v in compiled.count_ops().items()])}\n",
    "\"\"\"\n",
    ")"
   ]
  },
  {
   "cell_type": "code",
   "execution_count": 16,
   "metadata": {},
   "outputs": [],
   "source": [
    "# compiled.draw(fold=-1)"
   ]
  },
  {
   "cell_type": "markdown",
   "metadata": {},
   "source": [
    "### Compile to device"
   ]
  },
  {
   "cell_type": "code",
   "execution_count": 17,
   "metadata": {},
   "outputs": [],
   "source": [
    "computer = qiskit_ibm_runtime.fake_provider.FakeKyiv()"
   ]
  },
  {
   "cell_type": "code",
   "execution_count": 18,
   "metadata": {},
   "outputs": [],
   "source": [
    "compiled_kyiv = qiskit.transpile(\n",
    "    compiled,\n",
    "    backend=computer,\n",
    "    optimization_level=3,\n",
    ")"
   ]
  },
  {
   "cell_type": "code",
   "execution_count": 19,
   "metadata": {},
   "outputs": [
    {
     "name": "stdout",
     "output_type": "stream",
     "text": [
      "\n",
      "              Depth: 65055\n",
      "         Gate count: 117348\n",
      "Nonlocal gate count: 16930\n",
      "     Gate breakdown: RZ: 60860, SX: 37454, ECR: 16930, X: 2104\n",
      "\n"
     ]
    }
   ],
   "source": [
    "print(\n",
    "    f\"\"\"\n",
    "              Depth: {compiled_kyiv.depth()}\n",
    "         Gate count: {len(compiled_kyiv)}\n",
    "Nonlocal gate count: {compiled_kyiv.num_nonlocal_gates()}\n",
    "     Gate breakdown: {\", \".join([f\"{k.upper()}: {v}\" for k, v in compiled_kyiv.count_ops().items()])}\n",
    "\"\"\"\n",
    ")"
   ]
  },
  {
   "cell_type": "markdown",
   "metadata": {},
   "source": [
    "## Number of Trotter steps for chemical accuracy"
   ]
  },
  {
   "cell_type": "markdown",
   "metadata": {},
   "source": [
    "See https://arxiv.org/abs/1912.08854."
   ]
  },
  {
   "cell_type": "code",
   "execution_count": 20,
   "metadata": {},
   "outputs": [
    {
     "data": {
      "text/plain": [
       "71970"
      ]
     },
     "execution_count": 20,
     "metadata": {},
     "output_type": "execute_result"
    }
   ],
   "source": [
    "error = np.sum(np.abs(H.coeffs))  # Loose error bound from https://arxiv.org/abs/1912.08854.\n",
    "\n",
    "epsilon: float = 0.001  # mHa\n",
    "\n",
    "nsteps = round(error / epsilon)\n",
    "nsteps"
   ]
  },
  {
   "cell_type": "markdown",
   "metadata": {},
   "source": []
  },
  {
   "cell_type": "markdown",
   "metadata": {},
   "source": [
    "## VQE resources"
   ]
  },
  {
   "cell_type": "markdown",
   "metadata": {},
   "source": [
    "### Gates"
   ]
  },
  {
   "cell_type": "markdown",
   "metadata": {},
   "source": [
    "Read in VQE circuits."
   ]
  },
  {
   "cell_type": "code",
   "execution_count": 21,
   "metadata": {},
   "outputs": [
    {
     "name": "stdout",
     "output_type": "stream",
     "text": [
      "\n",
      "              Depth: 1075\n",
      "         Gate count: 2154\n",
      "Nonlocal gate count: 303\n",
      "     Gate breakdown: RZ: 1135, SX: 672, ECR: 303, X: 32, BARRIER: 12\n",
      "\n"
     ]
    }
   ],
   "source": [
    "circuit_vqe = qiskit.qasm3.loads(pickle.load(open(\"kyiv_circuit_h2o\", \"rb\")))\n",
    "\n",
    "print(\n",
    "    f\"\"\"\n",
    "              Depth: {circuit_vqe.depth()}\n",
    "         Gate count: {len(circuit_vqe)}\n",
    "Nonlocal gate count: {circuit_vqe.num_nonlocal_gates()}\n",
    "     Gate breakdown: {\", \".join([f\"{k.upper()}: {v}\" for k, v in circuit_vqe.count_ops().items()])}\n",
    "\"\"\"\n",
    ")"
   ]
  },
  {
   "cell_type": "markdown",
   "metadata": {},
   "source": [
    "## Number of circuits / shots"
   ]
  },
  {
   "cell_type": "code",
   "execution_count": 22,
   "metadata": {},
   "outputs": [],
   "source": [
    "def to_groups_of(groups: List[List[cirq.PauliString]]) -> List[of.QubitOperator]:\n",
    "    \"\"\"Convert groups from List[List[cirq.PauliString]] to List[of.QubitOperator].\"\"\"\n",
    "    maps = {cirq.X: \"X\", cirq.Y: \"Y\", cirq.Z: \"Z\"}\n",
    "\n",
    "    groups_of: List[of.QubitOperator] = []\n",
    "    for group in groups:\n",
    "        group_of = of.QubitOperator()\n",
    "\n",
    "        for p in group:\n",
    "            group_of += of.QubitOperator(\" \".join([f\"{maps[v]}{k.x}\" for k, v in p._qubit_pauli_map.items()]), coefficient=p.coefficient)\n",
    "        groups_of.append(group_of)\n",
    "\n",
    "    return groups_of\n",
    "\n",
    "\n",
    "def get_variance(qubop: of.QubitOperator, psi: np.ndarray):\n",
    "    \"\"\"Returns the variance ⟨psi|O^2|psi⟩ - ⟨psi|O|psi⟩^2 where O is the QubitOperator `qubop`.\"\"\"\n",
    "    op = of.linalg.get_sparse_operator(qubop, n_qubits=int(np.log2(len(psi))))\n",
    "    opsq = op @ op\n",
    "\n",
    "    mean = psi.conj().T @ (op @ psi)\n",
    "    opsq_expect = psi.conj().T @ (opsq @ psi)\n",
    "    return opsq_expect - mean ** 2\n",
    "\n",
    "\n",
    "def compute_shots(groups: List[of.QubitOperator], psi: np.ndarray, epsilon: float) -> int:\n",
    "    \"\"\"Returns the shots required to compute the expectation value of the\n",
    "    grouped operator with respect to the state psi to an accuracy epsilon.\n",
    "\n",
    "    Args:\n",
    "        groups: The grouping of the operator to compute the expectation value of. \n",
    "        psi: The state to compute the expectation value with respect to.\n",
    "        epsilon: The desired error.\n",
    "    \"\"\"\n",
    "    temp = 0.0\n",
    "    for op in groups:\n",
    "        var = get_variance(op, psi)\n",
    "        temp += np.sqrt(var)\n",
    "\n",
    "    temp = temp**2\n",
    "    shotcounts = temp.real / epsilon ** 2\n",
    "\n",
    "    return int(round(shotcounts.real))"
   ]
  },
  {
   "cell_type": "code",
   "execution_count": 23,
   "metadata": {},
   "outputs": [],
   "source": [
    "eval, evec = scipy.sparse.linalg.eigsh(\n",
    "    of.linalg.get_sparse_operator(hamiltonian_openfermion),\n",
    "    k=1,\n",
    "    which=\"SA\"\n",
    ")\n",
    "evec = evec.flatten()"
   ]
  },
  {
   "cell_type": "code",
   "execution_count": 24,
   "metadata": {},
   "outputs": [
    {
     "name": "stdout",
     "output_type": "stream",
     "text": [
      "[[2099.9999999999995, 210000.0, 21000000.0]]\n",
      "[[2099.9999999999995, 210000.0, 21000000.0], [2499.9999999999995, 250000.0, 25000000.0]]\n",
      "[[2099.9999999999995, 210000.0, 21000000.0], [2499.9999999999995, 250000.0, 25000000.0], [1599.9999999999998, 160000.0, 16000000.0]]\n",
      "[[2099.9999999999995, 210000.0, 21000000.0], [2499.9999999999995, 250000.0, 25000000.0], [1599.9999999999998, 160000.0, 16000000.0], [799.9999999999999, 80000.0, 8000000.0]]\n"
     ]
    }
   ],
   "source": [
    "epsilons = [0.1, 0.01, 0.001]\n",
    "kvals = [1, 2, nqubits // 2, nqubits]\n",
    "\n",
    "all_shots = []\n",
    "for k in kvals:\n",
    "    groups = get_si_sets(hamiltonian, k=k)\n",
    "    groups_of = to_groups_of(groups)\n",
    "    base_shots = compute_shots(groups_of, evec, epsilon=1)\n",
    "    shots = [base_shots / epsilon ** 2 for epsilon in epsilons]\n",
    "    all_shots.append(shots)\n",
    "    print(all_shots)"
   ]
  },
  {
   "cell_type": "code",
   "execution_count": 26,
   "metadata": {},
   "outputs": [
    {
     "data": {
      "image/png": "[encoded data removed]",
      "text/plain": [
       "<Figure size 640x480 with 1 Axes>"
      ]
     },
     "metadata": {},
     "output_type": "display_data"
    }
   ],
   "source": [
    "plt.rcParams.update({\"font.family\": \"serif\", \"font.size\": 12})\n",
    "\n",
    "\n",
    "for kval, shots in zip(kvals, all_shots):\n",
    "    plt.loglog(epsilons, shots, \"--o\", alpha=0.75, mec=\"black\", label=f\"$k = {kval}$\")\n",
    "\n",
    "plt.legend()\n",
    "plt.xlabel(\"Accuracy $\\epsilon$\")\n",
    "plt.ylabel(\"Shots $N$\")\n",
    "plt.title(f\"$k$-commuting shot counts w.r.t. ground state\\n for H2O ({nqubits} qubits, {nterms} Paulis)\");"
   ]
  },
  {
   "cell_type": "markdown",
   "metadata": {},
   "source": []
  }
 ],
 "metadata": {
  "kernelspec": {
   "display_name": "envcompare2",
   "language": "python",
   "name": "envcompare2"
  },
  "language_info": {
   "codemirror_mode": {
    "name": "ipython",
    "version": 3
   },
   "file_extension": ".py",
   "mimetype": "text/x-python",
   "name": "python",
   "nbconvert_exporter": "python",
   "pygments_lexer": "ipython3",
   "version": "3.10.13"
  }
 },
 "nbformat": 4,
 "nbformat_minor": 2
}
